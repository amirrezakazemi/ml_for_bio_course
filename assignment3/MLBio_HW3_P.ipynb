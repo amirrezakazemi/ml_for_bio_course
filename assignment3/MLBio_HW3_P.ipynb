{
  "nbformat": 4,
  "nbformat_minor": 0,
  "metadata": {
    "colab": {
      "name": "MLBio_HW3_P.ipynb",
      "provenance": [],
      "collapsed_sections": []
    },
    "kernelspec": {
      "display_name": "Python 3",
      "language": "python",
      "name": "python3"
    },
    "language_info": {
      "codemirror_mode": {
        "name": "ipython",
        "version": 3
      },
      "file_extension": ".py",
      "mimetype": "text/x-python",
      "name": "python",
      "nbconvert_exporter": "python",
      "pygments_lexer": "ipython3",
      "version": "3.6.4"
    }
  },
  "cells": [
    {
      "cell_type": "markdown",
      "metadata": {
        "colab_type": "text",
        "id": "efrE1Lc0Otrq"
      },
      "source": [
        "# **Machine Learning in Bioinformatics**"
      ]
    },
    {
      "cell_type": "markdown",
      "metadata": {
        "colab_type": "text",
        "id": "GtzvENmYOtxi"
      },
      "source": [
        "**Homework 3:**<br/>\n",
        "!!! If you don't fill these fields, your homework does not count !!!<br/>\n",
        "first name and last name :amirreza kazemi<br/>\n",
        "student number :95105827"
      ]
    },
    {
      "cell_type": "markdown",
      "metadata": {
        "colab_type": "text",
        "id": "KG3vb72VOt4G"
      },
      "source": [
        "You can run cells by hitting `Shift` + `Enter` or `ctrl` + `Enter`.<br/>\n",
        "We highly recommend you to read each line of code carefully and try to \n",
        "understand what it exactly does.<br/>\n",
        "Just alter the parts that is between green comments and specified for you. <br/>\n",
        "Please do not change other parts."
      ]
    },
    {
      "cell_type": "code",
      "metadata": {
        "colab_type": "code",
        "id": "v0dotHjRO5x_",
        "colab": {}
      },
      "source": [
        "# importing libraries\n",
        "import pandas as pd\n",
        "import numpy as np\n",
        "import matplotlib.pyplot as plt\n",
        "from sklearn.model_selection import train_test_split\n",
        "import numpy as np\n",
        "from sklearn.datasets import load_breast_cancer "
      ],
      "execution_count": 0,
      "outputs": []
    },
    {
      "cell_type": "markdown",
      "metadata": {
        "colab_type": "text",
        "id": "_5C6lgUtO-bg"
      },
      "source": [
        "\n",
        "### about the Data:<br/>\n",
        "The purpose of this project is to classify tumors into malignant or benign. The following dataset is constructed based on images of tumors. Features are computed from a digitized image of a fine needle aspirate (FNA) of a breast mass.\n",
        "For more details about the features of this dataset you can visit this link:\n",
        "https://scikit-learn.org/stable/datasets/index.html#breast-cancer-dataset<br/>\n",
        "This dataset contains 30 features and 1 label called target.\n",
        "The original dataset labels are 0 and 1 and in the following code boxes we change it to -1 and 1."
      ]
    },
    {
      "cell_type": "code",
      "metadata": {
        "colab_type": "code",
        "id": "-7_g8ApcO7tm",
        "colab": {
          "base_uri": "https://localhost:8080/",
          "height": 261
        },
        "outputId": "f6381100-49b0-477b-fc75-7f109ef9e654"
      },
      "source": [
        "cancer = load_breast_cancer()  ## change if the data set changed\n",
        "df = pd.DataFrame(np.c_[cancer[\"data\"], cancer[\"target\"]], columns = np.append(cancer[\"feature_names\"],[\"target\"]))\n",
        "features = ['mean radius', 'mean texture', 'mean perimeter', 'mean area', 'mean smoothness', 'mean compactness', 'mean concavity', 'mean concave points', 'mean symmetry', 'mean fractal dimension', 'radius error', 'texture error', 'perimeter error', 'area error', 'smoothness error', 'compactness error', 'concavity error', 'concave points error', 'symmetry error', 'fractal dimension error', 'worst radius', 'worst texture', 'worst perimeter', 'worst area', 'worst smoothness', 'worst compactness', 'worst concavity', 'worst concave points', 'worst symmetry', 'worst fractal dimension']\n",
        "df.head()"
      ],
      "execution_count": 2,
      "outputs": [
        {
          "output_type": "execute_result",
          "data": {
            "text/html": [
              "<div>\n",
              "<style scoped>\n",
              "    .dataframe tbody tr th:only-of-type {\n",
              "        vertical-align: middle;\n",
              "    }\n",
              "\n",
              "    .dataframe tbody tr th {\n",
              "        vertical-align: top;\n",
              "    }\n",
              "\n",
              "    .dataframe thead th {\n",
              "        text-align: right;\n",
              "    }\n",
              "</style>\n",
              "<table border=\"1\" class=\"dataframe\">\n",
              "  <thead>\n",
              "    <tr style=\"text-align: right;\">\n",
              "      <th></th>\n",
              "      <th>mean radius</th>\n",
              "      <th>mean texture</th>\n",
              "      <th>mean perimeter</th>\n",
              "      <th>mean area</th>\n",
              "      <th>mean smoothness</th>\n",
              "      <th>mean compactness</th>\n",
              "      <th>mean concavity</th>\n",
              "      <th>mean concave points</th>\n",
              "      <th>mean symmetry</th>\n",
              "      <th>mean fractal dimension</th>\n",
              "      <th>radius error</th>\n",
              "      <th>texture error</th>\n",
              "      <th>perimeter error</th>\n",
              "      <th>area error</th>\n",
              "      <th>smoothness error</th>\n",
              "      <th>compactness error</th>\n",
              "      <th>concavity error</th>\n",
              "      <th>concave points error</th>\n",
              "      <th>symmetry error</th>\n",
              "      <th>fractal dimension error</th>\n",
              "      <th>worst radius</th>\n",
              "      <th>worst texture</th>\n",
              "      <th>worst perimeter</th>\n",
              "      <th>worst area</th>\n",
              "      <th>worst smoothness</th>\n",
              "      <th>worst compactness</th>\n",
              "      <th>worst concavity</th>\n",
              "      <th>worst concave points</th>\n",
              "      <th>worst symmetry</th>\n",
              "      <th>worst fractal dimension</th>\n",
              "      <th>target</th>\n",
              "    </tr>\n",
              "  </thead>\n",
              "  <tbody>\n",
              "    <tr>\n",
              "      <th>0</th>\n",
              "      <td>17.99</td>\n",
              "      <td>10.38</td>\n",
              "      <td>122.80</td>\n",
              "      <td>1001.0</td>\n",
              "      <td>0.11840</td>\n",
              "      <td>0.27760</td>\n",
              "      <td>0.3001</td>\n",
              "      <td>0.14710</td>\n",
              "      <td>0.2419</td>\n",
              "      <td>0.07871</td>\n",
              "      <td>1.0950</td>\n",
              "      <td>0.9053</td>\n",
              "      <td>8.589</td>\n",
              "      <td>153.40</td>\n",
              "      <td>0.006399</td>\n",
              "      <td>0.04904</td>\n",
              "      <td>0.05373</td>\n",
              "      <td>0.01587</td>\n",
              "      <td>0.03003</td>\n",
              "      <td>0.006193</td>\n",
              "      <td>25.38</td>\n",
              "      <td>17.33</td>\n",
              "      <td>184.60</td>\n",
              "      <td>2019.0</td>\n",
              "      <td>0.1622</td>\n",
              "      <td>0.6656</td>\n",
              "      <td>0.7119</td>\n",
              "      <td>0.2654</td>\n",
              "      <td>0.4601</td>\n",
              "      <td>0.11890</td>\n",
              "      <td>0.0</td>\n",
              "    </tr>\n",
              "    <tr>\n",
              "      <th>1</th>\n",
              "      <td>20.57</td>\n",
              "      <td>17.77</td>\n",
              "      <td>132.90</td>\n",
              "      <td>1326.0</td>\n",
              "      <td>0.08474</td>\n",
              "      <td>0.07864</td>\n",
              "      <td>0.0869</td>\n",
              "      <td>0.07017</td>\n",
              "      <td>0.1812</td>\n",
              "      <td>0.05667</td>\n",
              "      <td>0.5435</td>\n",
              "      <td>0.7339</td>\n",
              "      <td>3.398</td>\n",
              "      <td>74.08</td>\n",
              "      <td>0.005225</td>\n",
              "      <td>0.01308</td>\n",
              "      <td>0.01860</td>\n",
              "      <td>0.01340</td>\n",
              "      <td>0.01389</td>\n",
              "      <td>0.003532</td>\n",
              "      <td>24.99</td>\n",
              "      <td>23.41</td>\n",
              "      <td>158.80</td>\n",
              "      <td>1956.0</td>\n",
              "      <td>0.1238</td>\n",
              "      <td>0.1866</td>\n",
              "      <td>0.2416</td>\n",
              "      <td>0.1860</td>\n",
              "      <td>0.2750</td>\n",
              "      <td>0.08902</td>\n",
              "      <td>0.0</td>\n",
              "    </tr>\n",
              "    <tr>\n",
              "      <th>2</th>\n",
              "      <td>19.69</td>\n",
              "      <td>21.25</td>\n",
              "      <td>130.00</td>\n",
              "      <td>1203.0</td>\n",
              "      <td>0.10960</td>\n",
              "      <td>0.15990</td>\n",
              "      <td>0.1974</td>\n",
              "      <td>0.12790</td>\n",
              "      <td>0.2069</td>\n",
              "      <td>0.05999</td>\n",
              "      <td>0.7456</td>\n",
              "      <td>0.7869</td>\n",
              "      <td>4.585</td>\n",
              "      <td>94.03</td>\n",
              "      <td>0.006150</td>\n",
              "      <td>0.04006</td>\n",
              "      <td>0.03832</td>\n",
              "      <td>0.02058</td>\n",
              "      <td>0.02250</td>\n",
              "      <td>0.004571</td>\n",
              "      <td>23.57</td>\n",
              "      <td>25.53</td>\n",
              "      <td>152.50</td>\n",
              "      <td>1709.0</td>\n",
              "      <td>0.1444</td>\n",
              "      <td>0.4245</td>\n",
              "      <td>0.4504</td>\n",
              "      <td>0.2430</td>\n",
              "      <td>0.3613</td>\n",
              "      <td>0.08758</td>\n",
              "      <td>0.0</td>\n",
              "    </tr>\n",
              "    <tr>\n",
              "      <th>3</th>\n",
              "      <td>11.42</td>\n",
              "      <td>20.38</td>\n",
              "      <td>77.58</td>\n",
              "      <td>386.1</td>\n",
              "      <td>0.14250</td>\n",
              "      <td>0.28390</td>\n",
              "      <td>0.2414</td>\n",
              "      <td>0.10520</td>\n",
              "      <td>0.2597</td>\n",
              "      <td>0.09744</td>\n",
              "      <td>0.4956</td>\n",
              "      <td>1.1560</td>\n",
              "      <td>3.445</td>\n",
              "      <td>27.23</td>\n",
              "      <td>0.009110</td>\n",
              "      <td>0.07458</td>\n",
              "      <td>0.05661</td>\n",
              "      <td>0.01867</td>\n",
              "      <td>0.05963</td>\n",
              "      <td>0.009208</td>\n",
              "      <td>14.91</td>\n",
              "      <td>26.50</td>\n",
              "      <td>98.87</td>\n",
              "      <td>567.7</td>\n",
              "      <td>0.2098</td>\n",
              "      <td>0.8663</td>\n",
              "      <td>0.6869</td>\n",
              "      <td>0.2575</td>\n",
              "      <td>0.6638</td>\n",
              "      <td>0.17300</td>\n",
              "      <td>0.0</td>\n",
              "    </tr>\n",
              "    <tr>\n",
              "      <th>4</th>\n",
              "      <td>20.29</td>\n",
              "      <td>14.34</td>\n",
              "      <td>135.10</td>\n",
              "      <td>1297.0</td>\n",
              "      <td>0.10030</td>\n",
              "      <td>0.13280</td>\n",
              "      <td>0.1980</td>\n",
              "      <td>0.10430</td>\n",
              "      <td>0.1809</td>\n",
              "      <td>0.05883</td>\n",
              "      <td>0.7572</td>\n",
              "      <td>0.7813</td>\n",
              "      <td>5.438</td>\n",
              "      <td>94.44</td>\n",
              "      <td>0.011490</td>\n",
              "      <td>0.02461</td>\n",
              "      <td>0.05688</td>\n",
              "      <td>0.01885</td>\n",
              "      <td>0.01756</td>\n",
              "      <td>0.005115</td>\n",
              "      <td>22.54</td>\n",
              "      <td>16.67</td>\n",
              "      <td>152.20</td>\n",
              "      <td>1575.0</td>\n",
              "      <td>0.1374</td>\n",
              "      <td>0.2050</td>\n",
              "      <td>0.4000</td>\n",
              "      <td>0.1625</td>\n",
              "      <td>0.2364</td>\n",
              "      <td>0.07678</td>\n",
              "      <td>0.0</td>\n",
              "    </tr>\n",
              "  </tbody>\n",
              "</table>\n",
              "</div>"
            ],
            "text/plain": [
              "   mean radius  mean texture  ...  worst fractal dimension  target\n",
              "0        17.99         10.38  ...                  0.11890     0.0\n",
              "1        20.57         17.77  ...                  0.08902     0.0\n",
              "2        19.69         21.25  ...                  0.08758     0.0\n",
              "3        11.42         20.38  ...                  0.17300     0.0\n",
              "4        20.29         14.34  ...                  0.07678     0.0\n",
              "\n",
              "[5 rows x 31 columns]"
            ]
          },
          "metadata": {
            "tags": []
          },
          "execution_count": 2
        }
      ]
    },
    {
      "cell_type": "code",
      "metadata": {
        "colab_type": "code",
        "id": "jmmK95OVPDyg",
        "colab": {
          "base_uri": "https://localhost:8080/",
          "height": 129
        },
        "outputId": "1711cced-5202-4137-e019-4d7a90600fec"
      },
      "source": [
        "from sklearn import preprocessing\n",
        "cancer.target = np.where(cancer.target==0, -1, cancer.target)\n",
        "X_train ,X_test ,X_val ,y_train ,y_test ,y_val = None ,None ,None ,None ,None ,None\n",
        "################################################################################\n",
        "# TODO:                                                                        #\n",
        "# 1- Normalize tha data.                                                       #\n",
        "# 2- using train_test_split package, split your data into 3 numpy array        #\n",
        "# called X_train, X_test, and X_val and also split the corresponding labels as #\n",
        "# y_train, y_test, and y_val. After spliting, the ratio of your data should be # \n",
        "# approximately like this:                                                     #\n",
        "#  Train : 70%     test : 20%       validation : 10%                           #\n",
        "################################################################################\n",
        "#X_scaled = (cancer.data - np.mean(cancer.data, axis = 0) ) / np.sqrt(np.var(cancer.data, axis = 0))\n",
        "normalizer = preprocessing.MinMaxScaler()\n",
        "X_scaled = normalizer.fit_transform(cancer.data)\n",
        "X_train_val, X_test, y_train_val, y_test = train_test_split(X_scaled, cancer.target, test_size = 0.2, random_state = 1)\n",
        "X_train, X_val , y_train, y_val = train_test_split(X_train_val, y_train_val, test_size = 0.125, random_state = 1)\n",
        "################################################################################\n",
        "#                                 END OF YOUR CODE                             #\n",
        "################################################################################\n",
        "print((X_train.shape[0]/cancer.data.shape[0]) * 100, \"%\")\n",
        "print((y_train.shape[0]/cancer.data.shape[0]) * 100, \"%\")\n",
        "print((X_test.shape[0]/cancer.data.shape[0]) * 100, \"%\")\n",
        "print((y_test.shape[0]/cancer.data.shape[0]) * 100, \"%\")\n",
        "print((X_val.shape[0]/cancer.data.shape[0]) * 100, \"%\")\n",
        "print((y_val.shape[0]/cancer.data.shape[0]) * 100, \"%\")"
      ],
      "execution_count": 3,
      "outputs": [
        {
          "output_type": "stream",
          "text": [
            "69.94727592267135 %\n",
            "69.94727592267135 %\n",
            "20.035149384885763 %\n",
            "20.035149384885763 %\n",
            "10.017574692442881 %\n",
            "10.017574692442881 %\n"
          ],
          "name": "stdout"
        }
      ]
    },
    {
      "cell_type": "markdown",
      "metadata": {
        "colab_type": "text",
        "id": "EZ3-Fm4uPIdf"
      },
      "source": [
        "# Ensemble Methods\n",
        "\n",
        "## Problem 1. Bagging (15 points)\n"
      ]
    },
    {
      "cell_type": "code",
      "metadata": {
        "colab_type": "code",
        "id": "ZzSuFIANPPRh",
        "colab": {
          "base_uri": "https://localhost:8080/",
          "height": 312
        },
        "outputId": "9845dca6-2cda-4da8-bf4e-4d8ed6cd09eb"
      },
      "source": [
        "from sklearn import model_selection \n",
        "from sklearn.ensemble import BaggingClassifier \n",
        "from sklearn import tree\n",
        "from sklearn.metrics import accuracy_score\n",
        "import sklearn\n",
        "\n",
        "\n",
        "################################################################################\n",
        "# TODO : initialize the base classifier. You can choose one of the classifiers #\n",
        "# you have learned in this course.(SVM/Decision tree)                          #\n",
        "# IMPORTANT: if you are using SVM as base classifier don't forget to add column#\n",
        "# of '1' s for bias and be careful to use the right datset in next parts.      #\n",
        "################################################################################\n",
        "base_cls = tree.DecisionTreeClassifier()\n",
        "  \n",
        "##################################################################################\n",
        "# TODO: Number of classifiers is a hyperparameter. Choose it by using validation #\n",
        "# data to have the best accuracy                                                 #\n",
        "# For different number of classifiers, train the model with training data and    #\n",
        "# compute accuracy for validation data. Plot accuracy-number of classifiers plot.#\n",
        "##################################################################################\n",
        "num_cls = None\n",
        "seed = None\n",
        "best_val_acc = 0\n",
        "best_model = None\n",
        "acc_val_history = list()\n",
        "for num_cls in range(1, 70):\n",
        "    val_acc = 0\n",
        "    for seed in range(0, 5):\n",
        "        model = BaggingClassifier(base_estimator = base_cls, \n",
        "                          n_estimators = num_cls, \n",
        "                          random_state = seed)\n",
        "        model.fit(X_train,y_train)\n",
        "        y_val_pred = model.predict(X_val)\n",
        "        val_acc += accuracy_score(y_val, y_val_pred)\n",
        "    acc_val_history.append(val_acc / 5)\n",
        "    if val_acc >= best_val_acc:\n",
        "        best_val_acc = val_acc\n",
        "        best_model = model\n",
        "        print(num_cls, val_acc/5)\n",
        "            \n",
        "plt.subplot(2, 1, 2)\n",
        "plt.plot(acc_val_history, label='validation')\n",
        "plt.ylabel(\"loss\")\n",
        "plt.xlabel(\"num_cls\")\n",
        "plt.legend()\n",
        "plt.show()\n",
        "################################################################################\n",
        "# compute and report the accuracy for test data.                               #\n",
        "################################################################################\n",
        "y_test_pred = best_model.predict(X_test)\n",
        "accuracy_score(y_test, y_test_pred)\n"
      ],
      "execution_count": 4,
      "outputs": [
        {
          "output_type": "stream",
          "text": [
            "1 0.9473684210526316\n",
            "3 0.9578947368421054\n",
            "4 0.9614035087719298\n",
            "53 0.9614035087719298\n",
            "61 0.9614035087719298\n",
            "63 0.9614035087719298\n",
            "69 0.9614035087719298\n"
          ],
          "name": "stdout"
        },
        {
          "output_type": "display_data",
          "data": {
            "image/png": "[encoded data removed]",
            "text/plain": [
              "<Figure size 432x288 with 1 Axes>"
            ]
          },
          "metadata": {
            "tags": [],
            "needs_background": "light"
          }
        },
        {
          "output_type": "execute_result",
          "data": {
            "text/plain": [
              "0.956140350877193"
            ]
          },
          "metadata": {
            "tags": []
          },
          "execution_count": 4
        }
      ]
    },
    {
      "cell_type": "markdown",
      "metadata": {
        "colab_type": "text",
        "id": "ELyA0acXgK2w"
      },
      "source": [
        "## Problem 2. Random Forest(25 points)</br>\n",
        "In this part, you should write your own code to classify the data, using random forest from sklearn package in python."
      ]
    },
    {
      "cell_type": "code",
      "metadata": {
        "colab_type": "code",
        "id": "JE4eKUybgQUb",
        "scrolled": false,
        "colab": {
          "base_uri": "https://localhost:8080/",
          "height": 690
        },
        "outputId": "9d1bbe08-230a-4909-c0ba-1c8b904a0d9f"
      },
      "source": [
        "from sklearn.ensemble import RandomForestClassifier\n",
        "from sklearn.metrics import classification_report, confusion_matrix, accuracy_score\n",
        "#################################################################################\n",
        "# TODO:use the validation data to determine hyperparameters(number and depth of #\n",
        "# trees) for the best accuracy                                                  # \n",
        "#################################################################################\n",
        "n_estimators , max_depth, random_state = None, None, None\n",
        "best_val_acc , best_model = 0, None\n",
        "for max_depth in range(1, 15):\n",
        "    for n_estimators in range(1 , 35):\n",
        "        for k in range(0,10, 3):\n",
        "            classifier = RandomForestClassifier(max_depth=max_depth, random_state=k, n_estimators =n_estimators)\n",
        "            classifier.fit(X_train, y_train)\n",
        "            y_val_predict = classifier.predict(X_val)\n",
        "            y_val_acc = accuracy_score(y_val, y_val_predict)\n",
        "            if y_val_acc > best_val_acc :\n",
        "                best_val_acc = y_val_acc\n",
        "                best_model = model\n",
        "                print(\" num of trees \", \"max_depth \", \"random_state bootstrapping \",n_estimators, max_depth, k)\n",
        "                print(accuracy_score(y_val, y_val_predict))\n",
        "            #if y_val_acc == best_val_acc :\n",
        "            #    best_val_acc = y_val_acc\n",
        "            #    best_model = model\n",
        "\n",
        "\n",
        "#######################################################################################\n",
        "#TODO:report accuracy, presition,recall and confusion matrix for train and test data  #\n",
        "#######################################################################################\n",
        "print(\"accuracy, precision,recall and confusion matrix for train data:\\n\")\n",
        "y_pred_train = best_model.predict(X_train)\n",
        "print(accuracy_score(y_train, y_pred_train))\n",
        "print(classification_report(y_train, y_pred_train))\n",
        "print(confusion_matrix(y_train, y_pred_train))\n",
        "\n",
        "\n",
        "print(\"accuracy, precision,recall and confusion matrix for train data:\\n\")\n",
        "y_pred_test = best_model.predict(X_test)\n",
        "print(accuracy_score(y_test, y_pred_test))\n",
        "print(classification_report(y_test, y_pred_test))\n",
        "print(confusion_matrix(y_test, y_pred_test))\n"
      ],
      "execution_count": 5,
      "outputs": [
        {
          "output_type": "stream",
          "text": [
            " num of trees  max_depth  random_state bootstrapping  1 1 0\n",
            "0.8771929824561403\n",
            " num of trees  max_depth  random_state bootstrapping  1 1 3\n",
            "0.9473684210526315\n",
            " num of trees  max_depth  random_state bootstrapping  3 1 3\n",
            "0.9649122807017544\n",
            " num of trees  max_depth  random_state bootstrapping  3 3 6\n",
            "1.0\n",
            "accuracy, precision,recall and confusion matrix for train data:\n",
            "\n",
            "1.0\n",
            "              precision    recall  f1-score   support\n",
            "\n",
            "          -1       1.00      1.00      1.00       151\n",
            "           1       1.00      1.00      1.00       247\n",
            "\n",
            "    accuracy                           1.00       398\n",
            "   macro avg       1.00      1.00      1.00       398\n",
            "weighted avg       1.00      1.00      1.00       398\n",
            "\n",
            "[[151   0]\n",
            " [  0 247]]\n",
            "accuracy, precision,recall and confusion matrix for train data:\n",
            "\n",
            "0.956140350877193\n",
            "              precision    recall  f1-score   support\n",
            "\n",
            "          -1       1.00      0.88      0.94        42\n",
            "           1       0.94      1.00      0.97        72\n",
            "\n",
            "    accuracy                           0.96       114\n",
            "   macro avg       0.97      0.94      0.95       114\n",
            "weighted avg       0.96      0.96      0.96       114\n",
            "\n",
            "[[37  5]\n",
            " [ 0 72]]\n"
          ],
          "name": "stdout"
        }
      ]
    },
    {
      "cell_type": "markdown",
      "metadata": {
        "colab_type": "text",
        "id": "pSr7G0fdgmyf"
      },
      "source": [
        "Question:\n",
        "Explain how you did choose the hyperparameters.</br>"
      ]
    },
    {
      "cell_type": "markdown",
      "metadata": {
        "colab_type": "text",
        "id": "etxNZ36Ugnp7"
      },
      "source": [
        "there are 3 paramaters that should be tune. depth of tree, number of trees and random seed in RandomForest Class . the last hyper parameter used in bootstrpping process . forech one I set an interval and the best combination picked and also the quality of different models measured by their accuracy on validation data. \n"
      ]
    },
    {
      "cell_type": "markdown",
      "metadata": {
        "colab_type": "text",
        "id": "fxpbM42MPg6m"
      },
      "source": [
        "## Problem 3. Boosting : AdaBoost (35 points)"
      ]
    },
    {
      "cell_type": "markdown",
      "metadata": {
        "colab_type": "text",
        "id": "rUodQdBvPrKQ"
      },
      "source": [
        "In this part you should implement adaptive boosting algorithm. </br>\n",
        "<picture>\n",
        "  <img src=\"http://uupload.ir/files/b919_adaboost.png\" alt=\"Adaboost\" width=\"600\" height=\"300\">\n",
        "</picture>\n",
        "\n"
      ]
    },
    {
      "cell_type": "code",
      "metadata": {
        "colab_type": "code",
        "id": "r9TL5FGqRIoL",
        "colab": {
          "base_uri": "https://localhost:8080/",
          "height": 54
        },
        "outputId": "5573c236-c6d2-482d-bac0-14376ee470ca"
      },
      "source": [
        "from sklearn.tree import DecisionTreeClassifier\n",
        "from sklearn.model_selection import cross_validate\n",
        "import math\n",
        "X_train ,X_test ,y_train ,y_test = None ,None ,None ,None\n",
        "###################################################################\n",
        "# TODO: use 80% of normalized data as train and 20% as test data. #\n",
        "###################################################################\n",
        "X_train, X_test, y_train, y_test = train_test_split(X_scaled, cancer.target, test_size = 0.2, random_state=1)\n",
        "\n",
        "\n",
        "######################################################################\n",
        "#TODO : define a weak decision tree.                                 #\n",
        "# initialize these parameters: criterion=\"entropy\" and max_depth = 1 #\n",
        "######################################################################\n",
        "Tree_model = DecisionTreeClassifier(criterion=\"entropy\", max_depth = 1)\n",
        "#############################################################################################\n",
        "#TODO : report accuracy of your weak model on train and test data by using cross validation #\n",
        "#############################################################################################\n",
        "train_accuracy = np.mean(cross_validate(Tree_model, X_train, y_train)['test_score']) \n",
        "print('The training data accuracy is:' ,train_accuracy * 100 , '%')\n",
        "\n",
        "test_accuracy = np.mean(cross_validate(Tree_model, X_test, y_test)['test_score']) \n",
        "print('The test data accuracy is:' ,test_accuracy * 100 , '%')\n"
      ],
      "execution_count": 6,
      "outputs": [
        {
          "output_type": "stream",
          "text": [
            "The training data accuracy is: 89.8901098901099 %\n",
            "The test data accuracy is: 85.9288537549407 %\n"
          ],
          "name": "stdout"
        }
      ]
    },
    {
      "cell_type": "code",
      "metadata": {
        "colab_type": "code",
        "id": "elsmjgbNRSdH",
        "colab": {}
      },
      "source": [
        "class AdaBoost:\n",
        "    \n",
        "    def __init__(self,train_data_X,train_data_y,tree_num,test_data_X,test_data_y):\n",
        "        self.train_data_X = train_data_X\n",
        "        self.train_data_y = train_data_y\n",
        "        self.tree_num = tree_num\n",
        "        self.test_data_X = test_data_X\n",
        "        self.test_data_y = test_data_y\n",
        "        self.alphas = None\n",
        "        self.models = None\n",
        "        self.accuracy = []\n",
        "        self.predictions = None\n",
        "        \n",
        "    def fit(self):\n",
        "        Evaluation = pd.DataFrame(self.train_data_y.copy())\n",
        "        Evaluation.columns = ['target']\n",
        "        ## TODO:Set the initial weights w = 1/N\n",
        "        Evaluation['weights'] = [1/np.size(self.train_data_X[:, 0])] * np.size(self.train_data_X[:, 0])\n",
        "        alphas = [] #list of alphas \n",
        "        models = [] # list of trained models\n",
        "        for t in range(self.tree_num):\n",
        "\n",
        "            ## TODO: create a weak decisiontree classifier\n",
        "            Tree_model =  DecisionTreeClassifier(criterion=\"entropy\", max_depth = 1)\n",
        "            ## TODO: fit the model with train data. set the sample_weight parameter to the 'weights' columns in Evaluation dataframe\n",
        "            model = Tree_model.fit(self.train_data_X, self.train_data_y, sample_weight = np.array(Evaluation['weights']))\n",
        "            \n",
        "            models.append(model)\n",
        "            predictions = model.predict(self.train_data_X)\n",
        "            score = model.score(self.train_data_X,self.train_data_y)\n",
        "\n",
        "            ## Add this columns to the Evaluation DataFrame\n",
        "            Evaluation['predictions'] = predictions\n",
        "            ## TODO: In each row if the prediction and the target are equal,this column must be '1' and '0' O.W. \n",
        "            Evaluation['evaluation'] = np.array(Evaluation['predictions']) * np.array(Evaluation['target'])\n",
        "            Evaluation['evaluation'] = np.where(np.array(Evaluation['evaluation'])< 0, 0, 1)\n",
        "            ## TODO: In each row if the tha data is missclassified, this column must be 1.\n",
        "            Evaluation['misclassified'] = np.logical_xor(np.array(Evaluation['evaluation']), 1)\n",
        "            Evaluation['misclassified'] = np.where(np.array(Evaluation['misclassified']) == False, 0, 1)\n",
        "            ## TODO: Calculate the misclassification rate and accuracy and then use them to calculate error\n",
        "            accuracy = np.count_nonzero(np.array(Evaluation['evaluation']) == 1) / np.size(self.train_data_X[:, 0])\n",
        "            misclassification = np.count_nonzero(np.array(Evaluation['misclassified']) == 1) / np.size(self.train_data_X[:, 0])\n",
        "            err = np.sum(np.array(Evaluation['misclassified']) *  np.array(Evaluation['weights']))\n",
        "            ## TODO: Calculate the alpha values from the adaboost algorithm\n",
        "            alpha = 1/2 * math.log((1- err)/err)\n",
        "            alphas.append(alpha)\n",
        "            ## TODO: update the weights\n",
        "            Evaluation['weights'] = np.array(Evaluation['weights']) * np.exp(-1 * np.array(Evaluation['predictions']) * np.array(Evaluation['target']) * alpha)\n",
        "            Evaluation['weights'] /= np.sum(np.array(Evaluation['weights']))\n",
        "\n",
        "        self.alphas = alphas\n",
        "        self.models = models\n",
        "        \n",
        "        \n",
        "    def predict(self):\n",
        "        \n",
        "        accuracy = []\n",
        "        predictions = []\n",
        "        #####################################################################################\n",
        "        #TODO:                                                                              #\n",
        "        # 1- predict target for test data and append each prediction to the predictions list#\n",
        "        # 2- Create a list of accuracies which can be used to plot the accuracy against the #\n",
        "        # number of base learners used for the model                                        #\n",
        "        #####################################################################################\n",
        "        prediction = 0\n",
        "        for alpha,model in zip(self.alphas,self.models):\n",
        "            prediction += alpha * model.predict(self.test_data_X)\n",
        "            predictions.append(prediction)\n",
        "            self.accuracy.append(accuracy_score(self.test_data_y, np.sign(prediction)))\n",
        "\n",
        "            \n",
        "        self.predictions = np.sign(np.sum(np.array(predictions),axis=0))\n"
      ],
      "execution_count": 0,
      "outputs": []
    },
    {
      "cell_type": "code",
      "metadata": {
        "colab_type": "code",
        "id": "-by9WfOXRVQG",
        "colab": {
          "base_uri": "https://localhost:8080/",
          "height": 625
        },
        "outputId": "8431a8cb-77ee-44ab-f262-70b795bc26d8"
      },
      "source": [
        "# Accuracy - number of base learners plot for training data\n",
        "\n",
        "number_of_base_learners = 100\n",
        "\n",
        "fig = plt.figure(figsize=(10,10))\n",
        "ax0 = fig.add_subplot(111)\n",
        "\n",
        "\n",
        "#for i in range(number_of_base_learners):\n",
        "model = AdaBoost(X_train,y_train,number_of_base_learners,X_train,y_train)\n",
        "model.fit()\n",
        "model.predict()\n",
        "\n",
        "ax0.plot(range(len(model.accuracy)),model.accuracy,'-b')\n",
        "ax0.set_xlabel('# models used for Boosting ')\n",
        "ax0.set_ylabel('accuracy')\n",
        "print('With a number of ',number_of_base_learners,'base models we receive an accuracy of ',model.accuracy[-1]*100,'%')    \n",
        "                 \n",
        "plt.show()   \n",
        "#################################################################### \n",
        "# TODO: Plot Accuracy - number of base learners plot for test data #\n",
        "####################################################################  "
      ],
      "execution_count": 8,
      "outputs": [
        {
          "output_type": "stream",
          "text": [
            "With a number of  100 base models we receive an accuracy of  100.0 %\n"
          ],
          "name": "stdout"
        },
        {
          "output_type": "display_data",
          "data": {
            "image/png": "[encoded data removed]",
            "text/plain": [
              "<Figure size 720x720 with 1 Axes>"
            ]
          },
          "metadata": {
            "tags": [],
            "needs_background": "light"
          }
        }
      ]
    },
    {
      "cell_type": "code",
      "metadata": {
        "colab_type": "code",
        "id": "aHIp-4p9Ravu",
        "colab": {}
      },
      "source": [
        ""
      ],
      "execution_count": 0,
      "outputs": []
    },
    {
      "cell_type": "markdown",
      "metadata": {
        "colab_type": "text",
        "id": "2olecphWRi4L"
      },
      "source": [
        "# Feature Selction </br>\n",
        "\n",
        "## problem4. Filtering : correlation coefficient (25 points)\n"
      ]
    },
    {
      "cell_type": "code",
      "metadata": {
        "colab_type": "code",
        "id": "oe0ynxveRmXS",
        "scrolled": true,
        "colab": {
          "base_uri": "https://localhost:8080/",
          "height": 148
        },
        "outputId": "4b94871a-38a7-4fb7-d4b8-e743e6031ad6"
      },
      "source": [
        "################################################################################# \n",
        "# TODO:                                                                         #\n",
        "# use 80% of normalized data as train and 20% as test data.(just use the data   # \n",
        "# from last part)                                                               #\n",
        "# 1- compute the correlation coefficient between each feature and target.       #\n",
        "# 2- Report the features that their correlation is more than 0.5                #\n",
        "# 3- compute the correlation between the features you reported in 2nd           #\n",
        "# section and report features that their correlation with other features        #\n",
        "# is less than 0.5                                                              #\n",
        "# 4- use perceptron from sklearn package to classify the data. Report accurracy #\n",
        "# for test data and sort the features based on their weights in perceptron.     #\n",
        "# IMPORTANT: Don't forget to add 1s to the end of feature vectors to be         #\n",
        "# multiplied by bias term of weight in perceptron.                              #\n",
        "# 5- compare the features you reported in section 2 and 3 with the features     #\n",
        "# that have the most weights in perceptron and write your analysis below        #\n",
        "# 6 - Classify data with perceptron and use only the features you repoted in    # \n",
        "# section 2 and report accuracy for test data.                                  #\n",
        "# 7 - Do the same with section 3 and compare accuracies.                        #\n",
        "#################################################################################\n",
        "from scipy.stats import pearsonr\n",
        "from sklearn.linear_model import Perceptron\n",
        "X_train, X_test, y_train, y_test = train_test_split(X_scaled, cancer.target, test_size = 0.2, random_state=1)\n",
        "num_features = np.size(X_train[0, :])\n",
        "best_features = list()\n",
        "for i in range(num_features):\n",
        "    corr, _ = pearsonr(X_train[:, i], y_train)\n",
        "    if abs(corr) > 0.5:\n",
        "        best_features.append(i)\n",
        "print(\"section2 features:\", best_features)\n",
        "correlated_features = [0] * len(best_features)\n",
        "for i in range(len(best_features)):\n",
        "    for j in range(len(best_features)):\n",
        "        if i is not j :\n",
        "            corr, _ = pearsonr(X_train[:, i], X_train[:, j])\n",
        "            if abs(corr) < 0.5:\n",
        "                correlated_features[i] += 1\n",
        "correlated_features = np.array(correlated_features)\n",
        "sort = np.argsort(correlated_features)\n",
        "best_features1 = [best_features[sort[-3]], best_features[sort[-2]], best_features[sort[-1]]]\n",
        "print(\"setion3 features:\", best_features1)\n",
        "\n",
        "clf = Perceptron()\n",
        "clf = clf.fit(X_train, y_train)\n",
        "y_pred = clf.predict(X_test)\n",
        "weights = np.array([ abs(x) for x in clf.coef_])\n",
        "features = np.argsort(weights[0])\n",
        "print(\"most weighted features:\", np.flip(features, axis = 0))\n",
        "\n",
        "print(\"Perceptron accuracy with all features\", accuracy_score(y_test, y_pred))\n",
        "\n",
        "clf1 = Perceptron()\n",
        "clf1 = clf1.fit(X_train[:, best_features], y_train)\n",
        "y_pred1 = clf1.predict(X_test[:, best_features])\n",
        "print(\"Perceptron accracy with section2 features\", accuracy_score(y_test, y_pred1))\n",
        "\n",
        "\n",
        "clf2 = Perceptron()\n",
        "clf2 = clf2.fit(X_train[:, best_features1], y_train)\n",
        "y_pred2 = clf2.predict(X_test[:, best_features1])\n",
        "print(\"Perceptron accracy with section3 features\", accuracy_score(y_test, y_pred2))"
      ],
      "execution_count": 9,
      "outputs": [
        {
          "output_type": "stream",
          "text": [
            "section2 features: [0, 2, 3, 5, 6, 7, 10, 12, 13, 20, 22, 23, 25, 26, 27]\n",
            "setion3 features: [2, 23, 27]\n",
            "most weighted features: [ 7 21 20  6 23 10 22 27 24  9 28 12 26 13  1 15 14 19  3 11 29  5  8 16\n",
            " 25  2 17 18  0  4]\n",
            "Perceptron accuracy with all features 0.9649122807017544\n",
            "Perceptron accracy with section2 features 0.8859649122807017\n",
            "Perceptron accracy with section3 features 0.9035087719298246\n"
          ],
          "name": "stdout"
        }
      ]
    },
    {
      "cell_type": "markdown",
      "metadata": {
        "colab_type": "text",
        "id": "o0QJrI36-GNR"
      },
      "source": [
        "explanation of part 5 and 6:"
      ]
    },
    {
      "cell_type": "markdown",
      "metadata": {
        "colab_type": "text",
        "id": "iTC2KZ1h-QO6"
      },
      "source": [
        "همان طور که در خروجی های گزارش شده در بالا مشاهده میشود ویژگی هایی که در بخش 2 انتخاب شدند 15 تا هستند که 9 تای آنها در میان 15 تا ویژگی هستند که در الگوریتم پرسپترون بیشترین وزن را دارند . هم چنین ویژگی های گزارش شده در بخش سوم 3 عدد هستند که دو تا از این 3 ویژگی در میان 4 تا پر وزنترین ویژگی ها هستند . علاوه بر این دقتی که بر روی داده تست با استفاده از ویژگی های بخش 2 و 3 بدست آورده ایم دقت مناسبی بوده و نزدیک حالتی است که از همه فیچر ها استفاده کردیم . از آن جا که میدانیم ارتباطی میان وزن ویژگی ها در دسته بند خطی و اهمیت ویژگی وجود دارد (این مساله نیز به راحتی قابل بررسی است زیرا هرچه وزن یک ویژگی بیشتر باشد مقدار آن ویژگی تاثیر بیشتری در دسته بندی میگذارد ) اینکه دقت ما بر روی داده تست نزدیک به حالت کلی  است و اینکه فیچر های استخراج شده تقریبا همان ویژگی های با وزن زیاد هستند نشان میدهد فرایند انتخاب ویژگی را به درستی انجام داده ایم .  "
      ]
    },
    {
      "cell_type": "markdown",
      "metadata": {
        "colab_type": "text",
        "id": "k_XG0iKSRqnE"
      },
      "source": [
        "Question: Is it important to extract features before classifying using methods like decision tree and SVM? why? "
      ]
    },
    {
      "cell_type": "markdown",
      "metadata": {
        "colab_type": "text",
        "id": "ro6v3JSBRsd5"
      },
      "source": [
        "استخراج ویژگی ها هم به جهت کاهش احتمال اورفیت برروی داده و هم به جهت کاهش بار سنگین محاسبات تکنیک بسیار مناسبی است . به عنوان مثال مدل هایی مانند درخت تصمیم ممکن است بر روی داده ترین اورفیت داشته باشند بنابراین لازم است تا با استخراج ویژگی ها یا به عبارتی کوچک کردن فضای فرضیه پیچیدگی مدل را کاهش دهیم . چنین مفهومی برای ماشین بردار پشتیبان نیز قابل بررسی است زیرا استخراج فیچر به معنای صفر کردن برخی مولفه های بردار وزن است در نتیجه پیچیدگی مدل کاهش و اورفیت کاهش میابد . در نتیجه اگر قبل از فرایند اموزش ویزگی ها را استخراج کنیم میتوانیم مدلی با سربار محسبات کمتر و پیچیدگی کمتر اموزش دهیم "
      ]
    },
    {
      "cell_type": "markdown",
      "metadata": {
        "colab_type": "text",
        "id": "eQjRm5a6j8KZ"
      },
      "source": [
        "## problem 5. mRMR (10 bonus points) </br>\n",
        "In this part you should write your own code and classify the data using mRMR method.You can use \"pymrmr\" package for this part."
      ]
    },
    {
      "cell_type": "code",
      "metadata": {
        "colab_type": "code",
        "id": "xQs-LPupRoDx",
        "colab": {
          "base_uri": "https://localhost:8080/",
          "height": 204
        },
        "outputId": "3c26c92d-efa1-468b-dad0-7c5560e247e5"
      },
      "source": [
        "import pymrmr\n",
        "\n",
        "data = pd.DataFrame(np.c_[cancer[\"data\"], cancer[\"target\"]], columns = np.append(cancer[\"feature_names\"],[\"target\"]))\n",
        "data.insert(loc=0, column='t', value=cancer[\"target\"])\n",
        "data = data.drop(data.columns[[31]], axis=1)\n",
        "pymrmr.mRMR(data, 'MIQ', 10)\n"
      ],
      "execution_count": 34,
      "outputs": [
        {
          "output_type": "execute_result",
          "data": {
            "text/plain": [
              "['worst area',\n",
              " 'radius error',\n",
              " 'worst compactness',\n",
              " 'worst radius',\n",
              " 'perimeter error',\n",
              " 'mean radius',\n",
              " 'worst perimeter',\n",
              " 'area error',\n",
              " 'mean perimeter',\n",
              " 'mean area']"
            ]
          },
          "metadata": {
            "tags": []
          },
          "execution_count": 34
        }
      ]
    },
    {
      "cell_type": "code",
      "metadata": {
        "id": "fI1Wsvy3hL9E",
        "colab_type": "code",
        "colab": {
          "base_uri": "https://localhost:8080/",
          "height": 223
        },
        "outputId": "6bff983f-0139-4286-8f1f-7e917628edca"
      },
      "source": [
        ""
      ],
      "execution_count": 11,
      "outputs": [
        {
          "output_type": "stream",
          "text": [
            "Collecting pymrmr\n",
            "\u001b[?25l  Downloading https://files.pythonhosted.org/packages/b3/ab/903712947a2f5cd1af249132885dbd81ae8bf8cfd30fb3b3f2beddab23e8/pymrmr-0.1.8.tar.gz (65kB)\n",
            "\r\u001b[K     |█████                           | 10kB 19.3MB/s eta 0:00:01\r\u001b[K     |██████████                      | 20kB 2.2MB/s eta 0:00:01\r\u001b[K     |███████████████                 | 30kB 2.8MB/s eta 0:00:01\r\u001b[K     |███████████████████▉            | 40kB 2.1MB/s eta 0:00:01\r\u001b[K     |████████████████████████▉       | 51kB 2.3MB/s eta 0:00:01\r\u001b[K     |█████████████████████████████▉  | 61kB 2.7MB/s eta 0:00:01\r\u001b[K     |████████████████████████████████| 71kB 2.4MB/s \n",
            "\u001b[?25hRequirement already satisfied: numpy>=1.12.0 in /usr/local/lib/python3.6/dist-packages (from pymrmr) (1.18.3)\n",
            "Building wheels for collected packages: pymrmr\n",
            "  Building wheel for pymrmr (setup.py) ... \u001b[?25l\u001b[?25hdone\n",
            "  Created wheel for pymrmr: filename=pymrmr-0.1.8-cp36-cp36m-linux_x86_64.whl size=256761 sha256=35e8482943f0872dc90e70706b414be02e534b17ff54ea5231cb35b2e9387692\n",
            "  Stored in directory: /root/.cache/pip/wheels/5b/ce/3a/bc9b80047f68973d909a35bb8e3062b7c7377510607ec35998\n",
            "Successfully built pymrmr\n",
            "Installing collected packages: pymrmr\n",
            "Successfully installed pymrmr-0.1.8\n"
          ],
          "name": "stdout"
        }
      ]
    },
    {
      "cell_type": "code",
      "metadata": {
        "id": "L1sT4NuliqeI",
        "colab_type": "code",
        "colab": {}
      },
      "source": [
        ""
      ],
      "execution_count": 0,
      "outputs": []
    }
  ]
}