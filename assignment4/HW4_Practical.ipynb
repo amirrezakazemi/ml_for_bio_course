{
 "cells": [
  {
   "cell_type": "markdown",
   "metadata": {
    "colab_type": "text",
    "id": "uvXSx2_9qxMn"
   },
   "source": [
    "#  Machine Learning for Bioinformatics\n",
    "## Practical Homework No.4 (100 points)"
   ]
  },
  {
   "cell_type": "markdown",
   "metadata": {
    "colab_type": "text",
    "id": "kXhZtIIaq69Y"
   },
   "source": [
    "#### Name: Amirreza kazemi\n",
    "#### Student No.: 95105827\n"
   ]
  },
  {
   "cell_type": "markdown",
   "metadata": {
    "colab_type": "text",
    "id": "OTQVem0I8SgS"
   },
   "source": [
    "## Imports"
   ]
  },
  {
   "cell_type": "markdown",
   "metadata": {
    "colab_type": "text",
    "id": "JgyrjEtdKY4k"
   },
   "source": [
    "run below cell to import necessary libraries. You are only allowed to use these libraries"
   ]
  },
  {
   "cell_type": "code",
   "execution_count": 81,
   "metadata": {
    "colab": {},
    "colab_type": "code",
    "id": "X4CELfLm8UpR"
   },
   "outputs": [],
   "source": [
    "import pandas as pd\n",
    "import numpy as np\n",
    "import matplotlib.pyplot as plt\n",
    "%matplotlib inline\n",
    "import seaborn as sns\n",
    "from sklearn.manifold import TSNE\n",
    "from sklearn.decomposition import PCA\n",
    "\n",
    "sns.set(rc={'figure.figsize':(11.7,8.27)})\n",
    "palette = sns.color_palette(\"bright\", 2)\n",
    "\n"
   ]
  },
  {
   "cell_type": "markdown",
   "metadata": {
    "colab_type": "text",
    "id": "hVgBVxJ4rqw3"
   },
   "source": [
    "## Dataset (10 points)"
   ]
  },
  {
   "cell_type": "markdown",
   "metadata": {
    "colab_type": "text",
    "id": "gSsTXPNcKPl-"
   },
   "source": [
    "This dataset comes from a proof-of-concept study published in 1999 by Golub et al. It showed how new cases of cancer could be classified by gene expression monitoring (via DNA microarray) and thereby provided a general approach for identifying new cancer classes and assigning tumors to known classes. These data were used to classify patients with acute myeloid leukemia (AML) and acute lymphoblastic leukemia (ALL)."
   ]
  },
  {
   "cell_type": "code",
   "execution_count": 54,
   "metadata": {
    "colab": {},
    "colab_type": "code",
    "id": "ICKMn_n9rtkv"
   },
   "outputs": [
    {
     "data": {
      "text/html": [
       "<div>\n",
       "<style scoped>\n",
       "    .dataframe tbody tr th:only-of-type {\n",
       "        vertical-align: middle;\n",
       "    }\n",
       "\n",
       "    .dataframe tbody tr th {\n",
       "        vertical-align: top;\n",
       "    }\n",
       "\n",
       "    .dataframe thead th {\n",
       "        text-align: right;\n",
       "    }\n",
       "</style>\n",
       "<table border=\"1\" class=\"dataframe\">\n",
       "  <thead>\n",
       "    <tr style=\"text-align: right;\">\n",
       "      <th></th>\n",
       "      <th>Gene Description</th>\n",
       "      <th>Gene Accession Number</th>\n",
       "      <th>1</th>\n",
       "      <th>2</th>\n",
       "      <th>3</th>\n",
       "      <th>4</th>\n",
       "      <th>5</th>\n",
       "      <th>6</th>\n",
       "      <th>7</th>\n",
       "      <th>8</th>\n",
       "      <th>...</th>\n",
       "      <th>57</th>\n",
       "      <th>58</th>\n",
       "      <th>60</th>\n",
       "      <th>61</th>\n",
       "      <th>65</th>\n",
       "      <th>66</th>\n",
       "      <th>63</th>\n",
       "      <th>64</th>\n",
       "      <th>62</th>\n",
       "      <th>72</th>\n",
       "    </tr>\n",
       "  </thead>\n",
       "  <tbody>\n",
       "    <tr>\n",
       "      <th>0</th>\n",
       "      <td>AFFX-BioB-5_at (endogenous control)</td>\n",
       "      <td>AFFX-BioB-5_at</td>\n",
       "      <td>-214</td>\n",
       "      <td>-139</td>\n",
       "      <td>-76</td>\n",
       "      <td>-135</td>\n",
       "      <td>-106</td>\n",
       "      <td>-138</td>\n",
       "      <td>-72</td>\n",
       "      <td>-413</td>\n",
       "      <td>...</td>\n",
       "      <td>-137</td>\n",
       "      <td>-157</td>\n",
       "      <td>-172</td>\n",
       "      <td>-47</td>\n",
       "      <td>-62</td>\n",
       "      <td>-58</td>\n",
       "      <td>-161</td>\n",
       "      <td>-48</td>\n",
       "      <td>-176</td>\n",
       "      <td>-131</td>\n",
       "    </tr>\n",
       "    <tr>\n",
       "      <th>1</th>\n",
       "      <td>AFFX-BioB-M_at (endogenous control)</td>\n",
       "      <td>AFFX-BioB-M_at</td>\n",
       "      <td>-153</td>\n",
       "      <td>-73</td>\n",
       "      <td>-49</td>\n",
       "      <td>-114</td>\n",
       "      <td>-125</td>\n",
       "      <td>-85</td>\n",
       "      <td>-144</td>\n",
       "      <td>-260</td>\n",
       "      <td>...</td>\n",
       "      <td>-51</td>\n",
       "      <td>-370</td>\n",
       "      <td>-122</td>\n",
       "      <td>-442</td>\n",
       "      <td>-198</td>\n",
       "      <td>-217</td>\n",
       "      <td>-215</td>\n",
       "      <td>-531</td>\n",
       "      <td>-284</td>\n",
       "      <td>-126</td>\n",
       "    </tr>\n",
       "    <tr>\n",
       "      <th>2</th>\n",
       "      <td>AFFX-BioB-3_at (endogenous control)</td>\n",
       "      <td>AFFX-BioB-3_at</td>\n",
       "      <td>-58</td>\n",
       "      <td>-1</td>\n",
       "      <td>-307</td>\n",
       "      <td>265</td>\n",
       "      <td>-76</td>\n",
       "      <td>215</td>\n",
       "      <td>238</td>\n",
       "      <td>7</td>\n",
       "      <td>...</td>\n",
       "      <td>-82</td>\n",
       "      <td>-77</td>\n",
       "      <td>38</td>\n",
       "      <td>-21</td>\n",
       "      <td>-5</td>\n",
       "      <td>63</td>\n",
       "      <td>-46</td>\n",
       "      <td>-124</td>\n",
       "      <td>-81</td>\n",
       "      <td>-50</td>\n",
       "    </tr>\n",
       "    <tr>\n",
       "      <th>3</th>\n",
       "      <td>AFFX-BioC-5_at (endogenous control)</td>\n",
       "      <td>AFFX-BioC-5_at</td>\n",
       "      <td>88</td>\n",
       "      <td>283</td>\n",
       "      <td>309</td>\n",
       "      <td>12</td>\n",
       "      <td>168</td>\n",
       "      <td>71</td>\n",
       "      <td>55</td>\n",
       "      <td>-2</td>\n",
       "      <td>...</td>\n",
       "      <td>178</td>\n",
       "      <td>340</td>\n",
       "      <td>31</td>\n",
       "      <td>396</td>\n",
       "      <td>141</td>\n",
       "      <td>95</td>\n",
       "      <td>146</td>\n",
       "      <td>431</td>\n",
       "      <td>9</td>\n",
       "      <td>211</td>\n",
       "    </tr>\n",
       "    <tr>\n",
       "      <th>4</th>\n",
       "      <td>AFFX-BioC-3_at (endogenous control)</td>\n",
       "      <td>AFFX-BioC-3_at</td>\n",
       "      <td>-295</td>\n",
       "      <td>-264</td>\n",
       "      <td>-376</td>\n",
       "      <td>-419</td>\n",
       "      <td>-230</td>\n",
       "      <td>-272</td>\n",
       "      <td>-399</td>\n",
       "      <td>-541</td>\n",
       "      <td>...</td>\n",
       "      <td>-135</td>\n",
       "      <td>-438</td>\n",
       "      <td>-201</td>\n",
       "      <td>-351</td>\n",
       "      <td>-256</td>\n",
       "      <td>-191</td>\n",
       "      <td>-172</td>\n",
       "      <td>-496</td>\n",
       "      <td>-294</td>\n",
       "      <td>-206</td>\n",
       "    </tr>\n",
       "  </tbody>\n",
       "</table>\n",
       "<p>5 rows × 74 columns</p>\n",
       "</div>"
      ],
      "text/plain": [
       "                      Gene Description Gene Accession Number    1    2    3  \\\n",
       "0  AFFX-BioB-5_at (endogenous control)        AFFX-BioB-5_at -214 -139  -76   \n",
       "1  AFFX-BioB-M_at (endogenous control)        AFFX-BioB-M_at -153  -73  -49   \n",
       "2  AFFX-BioB-3_at (endogenous control)        AFFX-BioB-3_at  -58   -1 -307   \n",
       "3  AFFX-BioC-5_at (endogenous control)        AFFX-BioC-5_at   88  283  309   \n",
       "4  AFFX-BioC-3_at (endogenous control)        AFFX-BioC-3_at -295 -264 -376   \n",
       "\n",
       "     4    5    6    7    8 ...    57   58   60   61   65   66   63   64   62  \\\n",
       "0 -135 -106 -138  -72 -413 ...  -137 -157 -172  -47  -62  -58 -161  -48 -176   \n",
       "1 -114 -125  -85 -144 -260 ...   -51 -370 -122 -442 -198 -217 -215 -531 -284   \n",
       "2  265  -76  215  238    7 ...   -82  -77   38  -21   -5   63  -46 -124  -81   \n",
       "3   12  168   71   55   -2 ...   178  340   31  396  141   95  146  431    9   \n",
       "4 -419 -230 -272 -399 -541 ...  -135 -438 -201 -351 -256 -191 -172 -496 -294   \n",
       "\n",
       "    72  \n",
       "0 -131  \n",
       "1 -126  \n",
       "2  -50  \n",
       "3  211  \n",
       "4 -206  \n",
       "\n",
       "[5 rows x 74 columns]"
      ]
     },
     "execution_count": 54,
     "metadata": {},
     "output_type": "execute_result"
    }
   ],
   "source": [
    "#####################################################################################\n",
    "#                          COMPLETE THE FOLLOWING SECTION                           #\n",
    "#####################################################################################\n",
    "# load all data using pandas. \n",
    "# DataSet.csv as train dataset.\n",
    "# labels.csv as data labels.\n",
    "# And Drop columns including call name as these columns as it doesn't have any \n",
    "# statistical relevance\n",
    "##################################################################################### \n",
    "Train_Data = None\n",
    "labels = None\n",
    "Train_Data = pd.read_csv(\"DataSet.csv\")\n",
    "labels = pd.read_csv(\"labels.csv\")\n",
    "####################################################################################\n",
    "#                                   THE END                                        #\n",
    "####################################################################################  \n",
    "Train_Data.head()\n"
   ]
  },
  {
   "cell_type": "markdown",
   "metadata": {
    "colab_type": "text",
    "id": "yEVNpveEPL58"
   },
   "source": [
    "Here we go to pre process the data for pca analysis. do these steps one by one"
   ]
  },
  {
   "cell_type": "code",
   "execution_count": 55,
   "metadata": {
    "colab": {},
    "colab_type": "code",
    "id": "O5PpJg558njC"
   },
   "outputs": [],
   "source": [
    "#####################################################################################\n",
    "#                          COMPLETE THE FOLLOWING SECTION                           #\n",
    "#####################################################################################\n",
    "# Drop Gene Description and Gene Accession Number to have a numeric matrix.\n",
    "# the result should be stored in train variable.\n",
    "#####################################################################################\n",
    "train = None\n",
    "train = Train_Data.drop(Train_Data.columns[[0, 1]], 1)\n",
    "####################################################################################\n",
    "#                                   THE END                                        #\n",
    "####################################################################################  \n",
    "train.index = pd.to_numeric(train.index)\n",
    "train.sort_index(inplace=True)\n"
   ]
  },
  {
   "cell_type": "markdown",
   "metadata": {
    "colab_type": "text",
    "id": "gppaxpk-RtXD"
   },
   "source": [
    "## Variable Selection\n",
    "\n",
    "To reduce the computation costs, instead of working on all 20184 genes present in the dataset, we will focus on 1000 genes that have the most variance."
   ]
  },
  {
   "cell_type": "code",
   "execution_count": 56,
   "metadata": {
    "colab": {},
    "colab_type": "code",
    "id": "ajzcaXDXRr-P"
   },
   "outputs": [
    {
     "data": {
      "text/html": [
       "<div>\n",
       "<style scoped>\n",
       "    .dataframe tbody tr th:only-of-type {\n",
       "        vertical-align: middle;\n",
       "    }\n",
       "\n",
       "    .dataframe tbody tr th {\n",
       "        vertical-align: top;\n",
       "    }\n",
       "\n",
       "    .dataframe thead th {\n",
       "        text-align: right;\n",
       "    }\n",
       "</style>\n",
       "<table border=\"1\" class=\"dataframe\">\n",
       "  <thead>\n",
       "    <tr style=\"text-align: right;\">\n",
       "      <th></th>\n",
       "      <th>5709</th>\n",
       "      <th>5710</th>\n",
       "      <th>18</th>\n",
       "      <th>5506</th>\n",
       "      <th>1867</th>\n",
       "      <th>5647</th>\n",
       "      <th>5228</th>\n",
       "      <th>1221</th>\n",
       "      <th>6223</th>\n",
       "      <th>4016</th>\n",
       "      <th>...</th>\n",
       "      <th>1569</th>\n",
       "      <th>6372</th>\n",
       "      <th>5923</th>\n",
       "      <th>1198</th>\n",
       "      <th>4864</th>\n",
       "      <th>6567</th>\n",
       "      <th>1267</th>\n",
       "      <th>6076</th>\n",
       "      <th>2048</th>\n",
       "      <th>7037</th>\n",
       "    </tr>\n",
       "  </thead>\n",
       "  <tbody>\n",
       "    <tr>\n",
       "      <th>1</th>\n",
       "      <td>17602</td>\n",
       "      <td>17962</td>\n",
       "      <td>15091</td>\n",
       "      <td>21011</td>\n",
       "      <td>-272</td>\n",
       "      <td>31086</td>\n",
       "      <td>8656</td>\n",
       "      <td>20764</td>\n",
       "      <td>-113</td>\n",
       "      <td>19748</td>\n",
       "      <td>...</td>\n",
       "      <td>443</td>\n",
       "      <td>695</td>\n",
       "      <td>509</td>\n",
       "      <td>-796</td>\n",
       "      <td>788</td>\n",
       "      <td>1624</td>\n",
       "      <td>536</td>\n",
       "      <td>730</td>\n",
       "      <td>1917</td>\n",
       "      <td>1183</td>\n",
       "    </tr>\n",
       "    <tr>\n",
       "      <th>2</th>\n",
       "      <td>9868</td>\n",
       "      <td>16964</td>\n",
       "      <td>11038</td>\n",
       "      <td>25240</td>\n",
       "      <td>-194</td>\n",
       "      <td>29288</td>\n",
       "      <td>13285</td>\n",
       "      <td>17636</td>\n",
       "      <td>4452</td>\n",
       "      <td>7657</td>\n",
       "      <td>...</td>\n",
       "      <td>389</td>\n",
       "      <td>812</td>\n",
       "      <td>286</td>\n",
       "      <td>-970</td>\n",
       "      <td>1691</td>\n",
       "      <td>238</td>\n",
       "      <td>1258</td>\n",
       "      <td>131</td>\n",
       "      <td>1603</td>\n",
       "      <td>1434</td>\n",
       "    </tr>\n",
       "    <tr>\n",
       "      <th>3</th>\n",
       "      <td>28056</td>\n",
       "      <td>23436</td>\n",
       "      <td>16692</td>\n",
       "      <td>14950</td>\n",
       "      <td>-79</td>\n",
       "      <td>14835</td>\n",
       "      <td>15704</td>\n",
       "      <td>23324</td>\n",
       "      <td>775</td>\n",
       "      <td>1032</td>\n",
       "      <td>...</td>\n",
       "      <td>443</td>\n",
       "      <td>810</td>\n",
       "      <td>610</td>\n",
       "      <td>-2111</td>\n",
       "      <td>1029</td>\n",
       "      <td>1081</td>\n",
       "      <td>2098</td>\n",
       "      <td>91</td>\n",
       "      <td>3200</td>\n",
       "      <td>2022</td>\n",
       "    </tr>\n",
       "    <tr>\n",
       "      <th>4</th>\n",
       "      <td>23812</td>\n",
       "      <td>22240</td>\n",
       "      <td>15763</td>\n",
       "      <td>31449</td>\n",
       "      <td>-300</td>\n",
       "      <td>25421</td>\n",
       "      <td>15691</td>\n",
       "      <td>21733</td>\n",
       "      <td>157</td>\n",
       "      <td>13356</td>\n",
       "      <td>...</td>\n",
       "      <td>509</td>\n",
       "      <td>599</td>\n",
       "      <td>294</td>\n",
       "      <td>-1555</td>\n",
       "      <td>695</td>\n",
       "      <td>1223</td>\n",
       "      <td>254</td>\n",
       "      <td>49</td>\n",
       "      <td>1416</td>\n",
       "      <td>2615</td>\n",
       "    </tr>\n",
       "    <tr>\n",
       "      <th>5</th>\n",
       "      <td>3553</td>\n",
       "      <td>5472</td>\n",
       "      <td>18128</td>\n",
       "      <td>12606</td>\n",
       "      <td>-157</td>\n",
       "      <td>29543</td>\n",
       "      <td>3390</td>\n",
       "      <td>20332</td>\n",
       "      <td>2175</td>\n",
       "      <td>13769</td>\n",
       "      <td>...</td>\n",
       "      <td>35</td>\n",
       "      <td>282</td>\n",
       "      <td>375</td>\n",
       "      <td>-331</td>\n",
       "      <td>1627</td>\n",
       "      <td>761</td>\n",
       "      <td>127</td>\n",
       "      <td>0</td>\n",
       "      <td>1749</td>\n",
       "      <td>924</td>\n",
       "    </tr>\n",
       "  </tbody>\n",
       "</table>\n",
       "<p>5 rows × 1000 columns</p>\n",
       "</div>"
      ],
      "text/plain": [
       "    5709   5710   18     5506  1867   5647   5228   1221  6223   4016  ...   \\\n",
       "1  17602  17962  15091  21011  -272  31086   8656  20764  -113  19748  ...    \n",
       "2   9868  16964  11038  25240  -194  29288  13285  17636  4452   7657  ...    \n",
       "3  28056  23436  16692  14950   -79  14835  15704  23324   775   1032  ...    \n",
       "4  23812  22240  15763  31449  -300  25421  15691  21733   157  13356  ...    \n",
       "5   3553   5472  18128  12606  -157  29543   3390  20332  2175  13769  ...    \n",
       "\n",
       "   1569  6372  5923  1198  4864  6567  1267  6076  2048  7037  \n",
       "1   443   695   509  -796   788  1624   536   730  1917  1183  \n",
       "2   389   812   286  -970  1691   238  1258   131  1603  1434  \n",
       "3   443   810   610 -2111  1029  1081  2098    91  3200  2022  \n",
       "4   509   599   294 -1555   695  1223   254    49  1416  2615  \n",
       "5    35   282   375  -331  1627   761   127     0  1749   924  \n",
       "\n",
       "[5 rows x 1000 columns]"
      ]
     },
     "execution_count": 56,
     "metadata": {},
     "output_type": "execute_result"
    }
   ],
   "source": [
    "# TODO: limited_data should contain columns of data corresponding to genes with most variance\n",
    "limited_data = None\n",
    "variance = train.var(axis = 1)\n",
    "train['var'] = variance\n",
    "sorted_data = train.sort_values(by=['var'], ascending= False)\n",
    "limited_data = sorted_data.drop(sorted_data.columns[[72]], 1)\n",
    "limited_data = limited_data.head(1000)\n",
    "limited_data = limited_data.T\n",
    "limited_data.head()\n"
   ]
  },
  {
   "cell_type": "markdown",
   "metadata": {
    "colab_type": "text",
    "id": "O8WfvVXYrvZA"
   },
   "source": [
    "## PCA (30 points)\n"
   ]
  },
  {
   "cell_type": "markdown",
   "metadata": {
    "colab_type": "text",
    "id": "GNlO2lGATkiA"
   },
   "source": [
    "Implement PCA. Then use it to project the data to the latent space. Finally, reconstruct the data and report the reconstruction error for both training and test datasets. Note that you should implement the PCA, so using existing libraries is not allowed. you should use numpy to compute eigenvectors/eigenvalues of a matrix."
   ]
  },
  {
   "cell_type": "code",
   "execution_count": 57,
   "metadata": {
    "colab": {},
    "colab_type": "code",
    "id": "VcaZiPwFPupP"
   },
   "outputs": [],
   "source": [
    "def loss_function(a, b):\n",
    "  #####################################################################################\n",
    "  #                          COMPLETE THE FOLLOWING SECTION                           #\n",
    "  #####################################################################################\n",
    "  # Implement a function that given the original data and a\n",
    "  # reconstructed version, returns the reconstruction's mean squared error.\n",
    "  #####################################################################################\n",
    "    result = None\n",
    "    result = (np.square(a - b)).mean()\n",
    "  ####################################################################################\n",
    "  #                                   THE END                                        #\n",
    "  #################################################################################### \n",
    "    return result"
   ]
  },
  {
   "cell_type": "code",
   "execution_count": 58,
   "metadata": {
    "colab": {},
    "colab_type": "code",
    "id": "K45o0KZaT3XY"
   },
   "outputs": [],
   "source": [
    "def PCA(X, n_components=72):\n",
    "    #####################################################################################\n",
    "    #                          COMPLETE THE FOLLOWING SECTION                           #\n",
    "    #####################################################################################\n",
    "    # X: a vector of shape (N, M)\n",
    "    # n_components: size of latent space (< M)\n",
    "    # returns a vector of shape (n_components, M) containing the first `n_components` PCs.\n",
    "    #####################################################################################\n",
    "    vector = None\n",
    "    X = np.asarray(X)\n",
    "    X = X - np.mean(X, axis=0)\n",
    "    u, s, vt = np.linalg.svd(X)\n",
    "    s2 = s * s\n",
    "    mask = np.argsort(s2)\n",
    "    mask = mask[:n_components]\n",
    "    vector = vt[mask, :]\n",
    "    ####################################################################################\n",
    "    #                                   THE END                                        #\n",
    "    #################################################################################### \n",
    "    return vector"
   ]
  },
  {
   "cell_type": "code",
   "execution_count": 59,
   "metadata": {
    "colab": {},
    "colab_type": "code",
    "id": "L06lCh8I-0F2"
   },
   "outputs": [],
   "source": [
    "pca = PCA(limited_data)\n"
   ]
  },
  {
   "cell_type": "code",
   "execution_count": 60,
   "metadata": {
    "colab": {},
    "colab_type": "code",
    "id": "u8KGa5L9tf_j"
   },
   "outputs": [],
   "source": [
    "def reconstruct_PCA(X):\n",
    "    #####################################################################################\n",
    "    #                          COMPLETE THE FOLLOWING SECTION                           #\n",
    "    #####################################################################################\n",
    "    # Compute PCs for the X.\n",
    "    # Project X to the space of computed PCs.\n",
    "    # Reconstruct X from projected data.\n",
    "    #####################################################################################\n",
    "    X = np.asarray(X)\n",
    "    principal_components = None\n",
    "    projected_data = None\n",
    "    reconstructed_data = None\n",
    "    principal_components = PCA(X)\n",
    "    projected_data = np.dot(X - np.mean(X, axis = 0), principal_components.T)\n",
    "    reconstructed_data = np.dot(projected_data, principal_components) + np.mean(X, axis =0)\n",
    "    ####################################################################################\n",
    "    #                                   THE END                                        #\n",
    "    ####################################################################################     \n",
    "    return reconstructed_data\n"
   ]
  },
  {
   "cell_type": "code",
   "execution_count": 61,
   "metadata": {
    "colab": {},
    "colab_type": "code",
    "id": "uxyrH2Wq_CQv"
   },
   "outputs": [],
   "source": [
    "pca_rec = reconstruct_PCA(limited_data)"
   ]
  },
  {
   "cell_type": "code",
   "execution_count": 62,
   "metadata": {
    "colab": {},
    "colab_type": "code",
    "id": "W9-zt2Gp9y52"
   },
   "outputs": [
    {
     "data": {
      "text/plain": [
       "1.4876654445075172e-23"
      ]
     },
     "execution_count": 62,
     "metadata": {},
     "output_type": "execute_result"
    }
   ],
   "source": [
    "## Run This cell to find how your functions working!\n",
    "loss_function(pca_rec , limited_data.values.tolist())"
   ]
  },
  {
   "cell_type": "markdown",
   "metadata": {
    "colab_type": "text",
    "id": "RmGUESkSthcB"
   },
   "source": [
    "## K-Means (20 points)\n",
    "\n"
   ]
  },
  {
   "cell_type": "markdown",
   "metadata": {
    "colab_type": "text",
    "id": "WquMFXsuuYsi"
   },
   "source": [
    "read the below cell codes. this is using sklearn pca implementation. we use this function to use in our kmeans clustering."
   ]
  },
  {
   "cell_type": "code",
   "execution_count": 63,
   "metadata": {
    "colab": {},
    "colab_type": "code",
    "id": "weP1UN8ATaJi"
   },
   "outputs": [
    {
     "data": {
      "text/html": [
       "<div>\n",
       "<style scoped>\n",
       "    .dataframe tbody tr th:only-of-type {\n",
       "        vertical-align: middle;\n",
       "    }\n",
       "\n",
       "    .dataframe tbody tr th {\n",
       "        vertical-align: top;\n",
       "    }\n",
       "\n",
       "    .dataframe thead th {\n",
       "        text-align: right;\n",
       "    }\n",
       "</style>\n",
       "<table border=\"1\" class=\"dataframe\">\n",
       "  <thead>\n",
       "    <tr style=\"text-align: right;\">\n",
       "      <th></th>\n",
       "      <th>PC1</th>\n",
       "      <th>PC2</th>\n",
       "      <th>cancer</th>\n",
       "    </tr>\n",
       "  </thead>\n",
       "  <tbody>\n",
       "    <tr>\n",
       "      <th>0</th>\n",
       "      <td>4.341202</td>\n",
       "      <td>-4.770869</td>\n",
       "      <td>ALL</td>\n",
       "    </tr>\n",
       "    <tr>\n",
       "      <th>1</th>\n",
       "      <td>14.195648</td>\n",
       "      <td>1.693616</td>\n",
       "      <td>ALL</td>\n",
       "    </tr>\n",
       "    <tr>\n",
       "      <th>2</th>\n",
       "      <td>14.183927</td>\n",
       "      <td>-1.751283</td>\n",
       "      <td>ALL</td>\n",
       "    </tr>\n",
       "    <tr>\n",
       "      <th>3</th>\n",
       "      <td>1.756293</td>\n",
       "      <td>-3.357066</td>\n",
       "      <td>ALL</td>\n",
       "    </tr>\n",
       "    <tr>\n",
       "      <th>4</th>\n",
       "      <td>11.519685</td>\n",
       "      <td>-9.365321</td>\n",
       "      <td>ALL</td>\n",
       "    </tr>\n",
       "    <tr>\n",
       "      <th>5</th>\n",
       "      <td>-5.593931</td>\n",
       "      <td>-3.373494</td>\n",
       "      <td>ALL</td>\n",
       "    </tr>\n",
       "    <tr>\n",
       "      <th>6</th>\n",
       "      <td>-4.647442</td>\n",
       "      <td>-0.191848</td>\n",
       "      <td>ALL</td>\n",
       "    </tr>\n",
       "    <tr>\n",
       "      <th>7</th>\n",
       "      <td>-3.575623</td>\n",
       "      <td>0.717450</td>\n",
       "      <td>ALL</td>\n",
       "    </tr>\n",
       "    <tr>\n",
       "      <th>8</th>\n",
       "      <td>31.054508</td>\n",
       "      <td>-3.559067</td>\n",
       "      <td>ALL</td>\n",
       "    </tr>\n",
       "    <tr>\n",
       "      <th>9</th>\n",
       "      <td>0.721518</td>\n",
       "      <td>-5.655028</td>\n",
       "      <td>ALL</td>\n",
       "    </tr>\n",
       "    <tr>\n",
       "      <th>10</th>\n",
       "      <td>8.512820</td>\n",
       "      <td>-6.681122</td>\n",
       "      <td>ALL</td>\n",
       "    </tr>\n",
       "    <tr>\n",
       "      <th>11</th>\n",
       "      <td>-14.176220</td>\n",
       "      <td>-3.688998</td>\n",
       "      <td>ALL</td>\n",
       "    </tr>\n",
       "    <tr>\n",
       "      <th>12</th>\n",
       "      <td>10.090685</td>\n",
       "      <td>-11.817460</td>\n",
       "      <td>ALL</td>\n",
       "    </tr>\n",
       "    <tr>\n",
       "      <th>13</th>\n",
       "      <td>7.189310</td>\n",
       "      <td>-2.189521</td>\n",
       "      <td>ALL</td>\n",
       "    </tr>\n",
       "    <tr>\n",
       "      <th>14</th>\n",
       "      <td>16.416085</td>\n",
       "      <td>-12.509743</td>\n",
       "      <td>ALL</td>\n",
       "    </tr>\n",
       "    <tr>\n",
       "      <th>15</th>\n",
       "      <td>4.079541</td>\n",
       "      <td>-10.731073</td>\n",
       "      <td>ALL</td>\n",
       "    </tr>\n",
       "    <tr>\n",
       "      <th>16</th>\n",
       "      <td>30.513574</td>\n",
       "      <td>6.204979</td>\n",
       "      <td>ALL</td>\n",
       "    </tr>\n",
       "    <tr>\n",
       "      <th>17</th>\n",
       "      <td>-9.693466</td>\n",
       "      <td>-4.963165</td>\n",
       "      <td>ALL</td>\n",
       "    </tr>\n",
       "    <tr>\n",
       "      <th>18</th>\n",
       "      <td>-4.397096</td>\n",
       "      <td>-9.855658</td>\n",
       "      <td>ALL</td>\n",
       "    </tr>\n",
       "    <tr>\n",
       "      <th>19</th>\n",
       "      <td>56.142736</td>\n",
       "      <td>-15.711616</td>\n",
       "      <td>ALL</td>\n",
       "    </tr>\n",
       "    <tr>\n",
       "      <th>20</th>\n",
       "      <td>3.475094</td>\n",
       "      <td>-16.469732</td>\n",
       "      <td>ALL</td>\n",
       "    </tr>\n",
       "    <tr>\n",
       "      <th>21</th>\n",
       "      <td>-11.442144</td>\n",
       "      <td>-5.353198</td>\n",
       "      <td>ALL</td>\n",
       "    </tr>\n",
       "    <tr>\n",
       "      <th>22</th>\n",
       "      <td>-9.501250</td>\n",
       "      <td>-7.050830</td>\n",
       "      <td>ALL</td>\n",
       "    </tr>\n",
       "    <tr>\n",
       "      <th>23</th>\n",
       "      <td>8.813339</td>\n",
       "      <td>-9.063620</td>\n",
       "      <td>ALL</td>\n",
       "    </tr>\n",
       "    <tr>\n",
       "      <th>24</th>\n",
       "      <td>-4.557716</td>\n",
       "      <td>-3.647258</td>\n",
       "      <td>ALL</td>\n",
       "    </tr>\n",
       "    <tr>\n",
       "      <th>25</th>\n",
       "      <td>-1.348922</td>\n",
       "      <td>-8.309341</td>\n",
       "      <td>ALL</td>\n",
       "    </tr>\n",
       "    <tr>\n",
       "      <th>26</th>\n",
       "      <td>-11.735993</td>\n",
       "      <td>-0.925617</td>\n",
       "      <td>ALL</td>\n",
       "    </tr>\n",
       "    <tr>\n",
       "      <th>27</th>\n",
       "      <td>-1.076988</td>\n",
       "      <td>9.369760</td>\n",
       "      <td>AML</td>\n",
       "    </tr>\n",
       "    <tr>\n",
       "      <th>28</th>\n",
       "      <td>-14.521214</td>\n",
       "      <td>1.711776</td>\n",
       "      <td>AML</td>\n",
       "    </tr>\n",
       "    <tr>\n",
       "      <th>29</th>\n",
       "      <td>8.816920</td>\n",
       "      <td>33.668781</td>\n",
       "      <td>AML</td>\n",
       "    </tr>\n",
       "    <tr>\n",
       "      <th>...</th>\n",
       "      <td>...</td>\n",
       "      <td>...</td>\n",
       "      <td>...</td>\n",
       "    </tr>\n",
       "    <tr>\n",
       "      <th>42</th>\n",
       "      <td>22.418908</td>\n",
       "      <td>-11.902702</td>\n",
       "      <td>ALL</td>\n",
       "    </tr>\n",
       "    <tr>\n",
       "      <th>43</th>\n",
       "      <td>-2.566452</td>\n",
       "      <td>2.178612</td>\n",
       "      <td>ALL</td>\n",
       "    </tr>\n",
       "    <tr>\n",
       "      <th>44</th>\n",
       "      <td>-4.651695</td>\n",
       "      <td>-13.377190</td>\n",
       "      <td>ALL</td>\n",
       "    </tr>\n",
       "    <tr>\n",
       "      <th>45</th>\n",
       "      <td>-13.878270</td>\n",
       "      <td>-7.353746</td>\n",
       "      <td>ALL</td>\n",
       "    </tr>\n",
       "    <tr>\n",
       "      <th>46</th>\n",
       "      <td>-8.076786</td>\n",
       "      <td>-13.759746</td>\n",
       "      <td>ALL</td>\n",
       "    </tr>\n",
       "    <tr>\n",
       "      <th>47</th>\n",
       "      <td>-6.521818</td>\n",
       "      <td>-11.121300</td>\n",
       "      <td>ALL</td>\n",
       "    </tr>\n",
       "    <tr>\n",
       "      <th>48</th>\n",
       "      <td>-12.210309</td>\n",
       "      <td>-10.044175</td>\n",
       "      <td>ALL</td>\n",
       "    </tr>\n",
       "    <tr>\n",
       "      <th>49</th>\n",
       "      <td>-14.077102</td>\n",
       "      <td>-8.474395</td>\n",
       "      <td>AML</td>\n",
       "    </tr>\n",
       "    <tr>\n",
       "      <th>50</th>\n",
       "      <td>-5.444136</td>\n",
       "      <td>-4.616250</td>\n",
       "      <td>AML</td>\n",
       "    </tr>\n",
       "    <tr>\n",
       "      <th>51</th>\n",
       "      <td>21.212867</td>\n",
       "      <td>-7.620301</td>\n",
       "      <td>AML</td>\n",
       "    </tr>\n",
       "    <tr>\n",
       "      <th>52</th>\n",
       "      <td>19.002662</td>\n",
       "      <td>-7.790841</td>\n",
       "      <td>AML</td>\n",
       "    </tr>\n",
       "    <tr>\n",
       "      <th>53</th>\n",
       "      <td>-0.811070</td>\n",
       "      <td>0.144754</td>\n",
       "      <td>AML</td>\n",
       "    </tr>\n",
       "    <tr>\n",
       "      <th>54</th>\n",
       "      <td>-13.828325</td>\n",
       "      <td>-5.011655</td>\n",
       "      <td>ALL</td>\n",
       "    </tr>\n",
       "    <tr>\n",
       "      <th>55</th>\n",
       "      <td>-14.117096</td>\n",
       "      <td>-6.921517</td>\n",
       "      <td>ALL</td>\n",
       "    </tr>\n",
       "    <tr>\n",
       "      <th>56</th>\n",
       "      <td>-14.425534</td>\n",
       "      <td>-7.166961</td>\n",
       "      <td>AML</td>\n",
       "    </tr>\n",
       "    <tr>\n",
       "      <th>57</th>\n",
       "      <td>-3.410426</td>\n",
       "      <td>12.518590</td>\n",
       "      <td>AML</td>\n",
       "    </tr>\n",
       "    <tr>\n",
       "      <th>58</th>\n",
       "      <td>6.237809</td>\n",
       "      <td>17.849634</td>\n",
       "      <td>ALL</td>\n",
       "    </tr>\n",
       "    <tr>\n",
       "      <th>59</th>\n",
       "      <td>-10.269408</td>\n",
       "      <td>10.524399</td>\n",
       "      <td>AML</td>\n",
       "    </tr>\n",
       "    <tr>\n",
       "      <th>60</th>\n",
       "      <td>0.991833</td>\n",
       "      <td>18.105850</td>\n",
       "      <td>AML</td>\n",
       "    </tr>\n",
       "    <tr>\n",
       "      <th>61</th>\n",
       "      <td>-0.077089</td>\n",
       "      <td>3.376647</td>\n",
       "      <td>AML</td>\n",
       "    </tr>\n",
       "    <tr>\n",
       "      <th>62</th>\n",
       "      <td>-18.697320</td>\n",
       "      <td>-0.483213</td>\n",
       "      <td>AML</td>\n",
       "    </tr>\n",
       "    <tr>\n",
       "      <th>63</th>\n",
       "      <td>-17.766081</td>\n",
       "      <td>10.545022</td>\n",
       "      <td>AML</td>\n",
       "    </tr>\n",
       "    <tr>\n",
       "      <th>64</th>\n",
       "      <td>-15.614487</td>\n",
       "      <td>0.646625</td>\n",
       "      <td>AML</td>\n",
       "    </tr>\n",
       "    <tr>\n",
       "      <th>65</th>\n",
       "      <td>-6.367855</td>\n",
       "      <td>8.106330</td>\n",
       "      <td>AML</td>\n",
       "    </tr>\n",
       "    <tr>\n",
       "      <th>66</th>\n",
       "      <td>-8.585232</td>\n",
       "      <td>3.968680</td>\n",
       "      <td>ALL</td>\n",
       "    </tr>\n",
       "    <tr>\n",
       "      <th>67</th>\n",
       "      <td>-9.111561</td>\n",
       "      <td>-8.859139</td>\n",
       "      <td>ALL</td>\n",
       "    </tr>\n",
       "    <tr>\n",
       "      <th>68</th>\n",
       "      <td>9.836478</td>\n",
       "      <td>22.720642</td>\n",
       "      <td>ALL</td>\n",
       "    </tr>\n",
       "    <tr>\n",
       "      <th>69</th>\n",
       "      <td>-1.017386</td>\n",
       "      <td>19.754243</td>\n",
       "      <td>ALL</td>\n",
       "    </tr>\n",
       "    <tr>\n",
       "      <th>70</th>\n",
       "      <td>-4.869208</td>\n",
       "      <td>17.797063</td>\n",
       "      <td>ALL</td>\n",
       "    </tr>\n",
       "    <tr>\n",
       "      <th>71</th>\n",
       "      <td>1.404915</td>\n",
       "      <td>-5.935697</td>\n",
       "      <td>ALL</td>\n",
       "    </tr>\n",
       "  </tbody>\n",
       "</table>\n",
       "<p>72 rows × 3 columns</p>\n",
       "</div>"
      ],
      "text/plain": [
       "          PC1        PC2 cancer\n",
       "0    4.341202  -4.770869    ALL\n",
       "1   14.195648   1.693616    ALL\n",
       "2   14.183927  -1.751283    ALL\n",
       "3    1.756293  -3.357066    ALL\n",
       "4   11.519685  -9.365321    ALL\n",
       "5   -5.593931  -3.373494    ALL\n",
       "6   -4.647442  -0.191848    ALL\n",
       "7   -3.575623   0.717450    ALL\n",
       "8   31.054508  -3.559067    ALL\n",
       "9    0.721518  -5.655028    ALL\n",
       "10   8.512820  -6.681122    ALL\n",
       "11 -14.176220  -3.688998    ALL\n",
       "12  10.090685 -11.817460    ALL\n",
       "13   7.189310  -2.189521    ALL\n",
       "14  16.416085 -12.509743    ALL\n",
       "15   4.079541 -10.731073    ALL\n",
       "16  30.513574   6.204979    ALL\n",
       "17  -9.693466  -4.963165    ALL\n",
       "18  -4.397096  -9.855658    ALL\n",
       "19  56.142736 -15.711616    ALL\n",
       "20   3.475094 -16.469732    ALL\n",
       "21 -11.442144  -5.353198    ALL\n",
       "22  -9.501250  -7.050830    ALL\n",
       "23   8.813339  -9.063620    ALL\n",
       "24  -4.557716  -3.647258    ALL\n",
       "25  -1.348922  -8.309341    ALL\n",
       "26 -11.735993  -0.925617    ALL\n",
       "27  -1.076988   9.369760    AML\n",
       "28 -14.521214   1.711776    AML\n",
       "29   8.816920  33.668781    AML\n",
       "..        ...        ...    ...\n",
       "42  22.418908 -11.902702    ALL\n",
       "43  -2.566452   2.178612    ALL\n",
       "44  -4.651695 -13.377190    ALL\n",
       "45 -13.878270  -7.353746    ALL\n",
       "46  -8.076786 -13.759746    ALL\n",
       "47  -6.521818 -11.121300    ALL\n",
       "48 -12.210309 -10.044175    ALL\n",
       "49 -14.077102  -8.474395    AML\n",
       "50  -5.444136  -4.616250    AML\n",
       "51  21.212867  -7.620301    AML\n",
       "52  19.002662  -7.790841    AML\n",
       "53  -0.811070   0.144754    AML\n",
       "54 -13.828325  -5.011655    ALL\n",
       "55 -14.117096  -6.921517    ALL\n",
       "56 -14.425534  -7.166961    AML\n",
       "57  -3.410426  12.518590    AML\n",
       "58   6.237809  17.849634    ALL\n",
       "59 -10.269408  10.524399    AML\n",
       "60   0.991833  18.105850    AML\n",
       "61  -0.077089   3.376647    AML\n",
       "62 -18.697320  -0.483213    AML\n",
       "63 -17.766081  10.545022    AML\n",
       "64 -15.614487   0.646625    AML\n",
       "65  -6.367855   8.106330    AML\n",
       "66  -8.585232   3.968680    ALL\n",
       "67  -9.111561  -8.859139    ALL\n",
       "68   9.836478  22.720642    ALL\n",
       "69  -1.017386  19.754243    ALL\n",
       "70  -4.869208  17.797063    ALL\n",
       "71   1.404915  -5.935697    ALL\n",
       "\n",
       "[72 rows x 3 columns]"
      ]
     },
     "execution_count": 63,
     "metadata": {},
     "output_type": "execute_result"
    }
   ],
   "source": [
    "from sklearn.preprocessing import StandardScaler\n",
    "from sklearn.decomposition import PCA\n",
    "x_norm = StandardScaler().fit_transform(limited_data)\n",
    "pca = PCA(n_components=2)\n",
    "principalComponents = pca.fit_transform(x_norm)\n",
    "principalDf = pd.DataFrame(data = principalComponents\n",
    "             , columns = ['PC1', 'PC2'])\n",
    "principalDf = principalDf.set_index(labels.index)\n",
    "finalDf = pd.concat([principalDf, labels['cancer']], axis = 1)\n",
    "finalDf\n"
   ]
  },
  {
   "cell_type": "markdown",
   "metadata": {
    "colab_type": "text",
    "id": "PdOAi2mSkZKR"
   },
   "source": [
    "here we try to initialize centroids. Note that we already knows we have two cluster, So from our prior knowledge we define number of clusters equal to two."
   ]
  },
  {
   "cell_type": "code",
   "execution_count": 64,
   "metadata": {
    "colab": {},
    "colab_type": "code",
    "id": "f2ZM3kLwvX_n"
   },
   "outputs": [
    {
     "name": "stdout",
     "output_type": "stream",
     "text": [
      "[[23.  0.]\n",
      " [ 7. 30.]]\n"
     ]
    }
   ],
   "source": [
    "np.random.seed(1000)\n",
    "# Number of clusters\n",
    "k = 2\n",
    "X = np.array(list(zip(finalDf['PC1'], finalDf['PC2'])))\n",
    "# X coordinates of random centroids\n",
    "C_x = np.random.randint(0, np.max(X)-20, size=k)\n",
    "# Y coordinates of random centroids\n",
    "C_y = np.random.randint(0, np.max(X)-20, size=k)\n",
    "C = np.array(list(zip(C_x, C_y)), dtype=np.float32)\n",
    "print(C)"
   ]
  },
  {
   "cell_type": "markdown",
   "metadata": {
    "colab_type": "text",
    "id": "7hyU49kHkqhD"
   },
   "source": [
    "Now you can see the unlabeled data and our initialization data by running following cell"
   ]
  },
  {
   "cell_type": "code",
   "execution_count": 65,
   "metadata": {
    "colab": {},
    "colab_type": "code",
    "id": "44In_GGZvuHh"
   },
   "outputs": [
    {
     "data": {
      "text/plain": [
       "<matplotlib.collections.PathCollection at 0x1c0b41e6e80>"
      ]
     },
     "execution_count": 65,
     "metadata": {},
     "output_type": "execute_result"
    },
    {
     "data": {
      "image/png": "[encoded data removed]",
      "text/plain": [
       "<matplotlib.figure.Figure at 0x1c0b41a89b0>"
      ]
     },
     "metadata": {},
     "output_type": "display_data"
    }
   ],
   "source": [
    "# Plotting along with the Centroids\n",
    "plt.scatter(finalDf['PC1'], finalDf['PC2'], c='#050505', s=7)\n",
    "plt.scatter(C_x, C_y, marker='*', s=200, c='g')"
   ]
  },
  {
   "cell_type": "markdown",
   "metadata": {
    "colab_type": "text",
    "id": "ugKD1qEDkzLZ"
   },
   "source": [
    "It's your turn. Implement K-Means function which return a np.array with size equal to your data. this array contain each point label that you assigned using kmeans clustering."
   ]
  },
  {
   "cell_type": "code",
   "execution_count": 66,
   "metadata": {
    "colab": {},
    "colab_type": "code",
    "id": "KCu4Q92Uv6mQ"
   },
   "outputs": [],
   "source": [
    "def Kmeans(X, Centroids):\n",
    "    clusters = np.zeros(len(X))\n",
    "      # To store the value of centroids when it updates\n",
    "    C = Centroids\n",
    "    C_old = np.zeros(C.shape)\n",
    "      # Cluster Lables(0, 1)\n",
    "    clusters = np.zeros(len(X))\n",
    "      # Error func. - Distance between new centroids and old centroids\n",
    "    error = np.linalg.norm(C - C_old)\n",
    "      ####################################################################################\n",
    "      #                          COMPLETE THE FOLLOWING SECTION                          #\n",
    "      ####################################################################################\n",
    "      # Implement K-Means Clustering\n",
    "      # Assigning each value to its closest cluster\n",
    "      # Storing the old centroid values\n",
    "      # Finding the new centroids by taking the average value\n",
    "      # clusters variable should contain (0,1) labels. 0 for first cluster and 1 for the second. \n",
    "      ####################################################################################\n",
    "      # Loop will run till the error becomes zero\n",
    "      # Do Not Forget to update error condition.\n",
    "    \n",
    "    \n",
    "    while error != 0:\n",
    "        x1dis = np.linalg.norm(X - C[0], axis = 1)\n",
    "        x2dis = np.linalg.norm(X - C[1], axis = 1)\n",
    "        #print(x1dis, x2dis)\n",
    "        dif = x1dis - x2dis\n",
    "        #print(dif)\n",
    "        clusters = np.where(dif > 0, 1, 0)\n",
    "        mask1 = np.argwhere(clusters == 0)\n",
    "        mask2 = np.argwhere(clusters == 1)\n",
    "        #print(mask1, mask2)\n",
    "        C_old = C\n",
    "        a = np.mean(X[mask1], axis = 0)\n",
    "        b = np.mean(X[mask2], axis = 0)\n",
    "        C = np.array([a[0], b[0]])\n",
    "        error = np.linalg.norm(C - C_old)\n",
    "        \n",
    "        \n",
    "        \n",
    "\n",
    "      ####################################################################################\n",
    "      #                                   THE END                                        #\n",
    "      ####################################################################################\n",
    "    return clusters, C"
   ]
  },
  {
   "cell_type": "code",
   "execution_count": 67,
   "metadata": {
    "colab": {},
    "colab_type": "code",
    "id": "_ZY4LglCj2Oz"
   },
   "outputs": [
    {
     "name": "stdout",
     "output_type": "stream",
     "text": [
      "[[-0.73560073 -5.60245301]\n",
      " [ 2.05193888 15.62789525]] [0 0 0 0 0 0 0 0 0 0 0 0 0 0 0 0 1 0 0 0 0 0 0 0 0 0 0 1 0 1 1 1 1 0 1 1 1\n",
      " 1 0 0 0 0 0 0 0 0 0 0 0 0 0 0 0 0 0 0 0 1 1 1 1 0 0 1 0 1 0 0 1 1 1 0]\n"
     ]
    }
   ],
   "source": [
    "clusters, C = Kmeans(X, C)\n",
    "print(C, clusters)"
   ]
  },
  {
   "cell_type": "markdown",
   "metadata": {
    "colab_type": "text",
    "id": "liuvdw6Ml7wZ"
   },
   "source": [
    "Now just run cell below to plot your result. "
   ]
  },
  {
   "cell_type": "code",
   "execution_count": 68,
   "metadata": {
    "colab": {},
    "colab_type": "code",
    "id": "GOam4hp1wbn4"
   },
   "outputs": [
    {
     "data": {
      "text/plain": [
       "<matplotlib.collections.PathCollection at 0x1c0b4210748>"
      ]
     },
     "execution_count": 68,
     "metadata": {},
     "output_type": "execute_result"
    },
    {
     "data": {
      "image/png": "[encoded data removed]",
      "text/plain": [
       "<matplotlib.figure.Figure at 0x1c0b4413978>"
      ]
     },
     "metadata": {},
     "output_type": "display_data"
    }
   ],
   "source": [
    "colors = ['r', 'g', 'b', 'y', 'c', 'm']\n",
    "fig, ax = plt.subplots()\n",
    "for i in range(k):\n",
    "        points = np.array([X[j] for j in range(len(X)) if clusters[j] == i])\n",
    "        ax.scatter(points[:, 0], points[:, 1], s=7, c=colors[i])\n",
    "ax.scatter(C[:, 0], C[:, 1], marker='*', s=200, c='#050505')"
   ]
  },
  {
   "cell_type": "markdown",
   "metadata": {
    "colab_type": "text",
    "id": "fZPQjdLdMLmo"
   },
   "source": [
    "This part shows real labels of the samples. just run this cell and answer the next question. "
   ]
  },
  {
   "cell_type": "code",
   "execution_count": 69,
   "metadata": {
    "colab": {},
    "colab_type": "code",
    "id": "Qd6GZwJnMF8n"
   },
   "outputs": [
    {
     "data": {
      "text/plain": [
       "(-20, 25)"
      ]
     },
     "execution_count": 69,
     "metadata": {},
     "output_type": "execute_result"
    },
    {
     "data": {
      "image/png": "[encoded data removed]",
      "text/plain": [
       "<matplotlib.figure.Figure at 0x1c0b4227dd8>"
      ]
     },
     "metadata": {},
     "output_type": "display_data"
    }
   ],
   "source": [
    "fig = plt.figure(figsize=(10,10))\n",
    "ax = fig.add_subplot(1,1,1) \n",
    "ax.set_xlabel('PC1', fontsize=15)\n",
    "ax.set_ylabel('PC2', fontsize=15)\n",
    "ax.set_title('2 component PCA', fontsize=20)\n",
    "targets = ['ALL','AML']\n",
    "colors = ['r', 'g']\n",
    "for target, color in zip(targets,colors):\n",
    "    indicesToKeep = finalDf['cancer'] == target\n",
    "    ax.scatter(finalDf.loc[indicesToKeep, 'PC1'],\n",
    "               finalDf.loc[indicesToKeep, 'PC2'],\n",
    "               c=color,\n",
    "               s=50)\n",
    "ax.legend(targets)\n",
    "ax.grid()\n",
    "ax.set_xlim([-20, 25])\n",
    "ax.set_ylim([-20, 25])"
   ]
  },
  {
   "cell_type": "markdown",
   "metadata": {
    "colab_type": "text",
    "id": "NXv0R4dDNwoa"
   },
   "source": [
    "Compare your results with the figure above and tell us what will change if we change the random seed (try it with two or three different seeds) and what is the solution?"
   ]
  },
  {
   "cell_type": "markdown",
   "metadata": {
    "colab_type": "text",
    "id": "CmhXIZAFOgKZ"
   },
   "source": [
    "--> \n",
    "   Write Your Answer Here \n",
    "<--\n",
    "<div style=\"direction:rtl;line-height:300%;text-align:justify\"><font face=\"XB Zar\" size=4>\n",
    "با توجه به اینکه روش kmeans به تنظیم نقاط مرکزی هر خوشه حساس است اگر مقدار seed تغییر کند نقاط اولیه خوشه تغییر کرده و در نتیجه الگوریتم kmeans به خوشه بندی های متفاوتی همگرا میشود . برای اینکه الگوریتم نقاط اولیه را به صورت تصادفی انتخاب نکند و احتمال همگرایی به مینیمم محلی کاهش بیابد میتوان از روش هایی همچون furthest point و kmeans++ استفاده کرد که سعی میکنند نقاط اولیه را به گونه ای انتخاب کنند که تمام فضای دادگان را به نوعی پوشش دهد\n",
    "</font></div>"
   ]
  },
  {
   "cell_type": "markdown",
   "metadata": {
    "colab_type": "text",
    "id": "YQN_77qvfrnE"
   },
   "source": [
    "## GMM (30 points)\n",
    "\n",
    "The EM algorithm for GMM can be simplified in the following steps:\n",
    "\n",
    "Assuming K is the number of clusters, and N is the number of data points\n",
    "\n",
    "\n",
    "$z_j^i$ is 1 if $x^i$ is generated from mixture j\n",
    "\n",
    "Initialize $\\mu_k$, $\\Sigma_k$ and $\\pi_k$ k=1,...K\n",
    "\n",
    "\n",
    "$\\theta=[\\pi,\\mu,\\Sigma]$\n",
    "## E step:\n",
    "$\\gamma_j^i=P(z_j^i=1|x^i, \\theta^{old})=\\frac{\\pi_j^{old}\\mathcal{N}(x^i|\\mu_j^{old},\\Sigma_j^{old})}{\\sum_{k=1}^K\\pi_k^{old}\\mathcal{N}(x^i|\\mu_k^{old},\\Sigma_k^{old})}$\n",
    "\n",
    "## M step:\n",
    "$\\mu_j^{new}=\\frac{\\sum_{i=1}^N \\gamma_j^i x^i}{\\sum_{i=1}^N \\gamma_j^i}$\n",
    "\n",
    "\n",
    "$\\Sigma_j^{new} = \\frac{1}{\\sum_{i=1}^N \\gamma_j^i} \\sum_{i=1}^N \\gamma_j^i (x^i-\\mu_j^{new}) (x^i-\\mu_j^{new})^T$\n",
    "\n",
    "\n",
    "$\\pi_j^{new} = \\frac{\\sum_{i=1}^N \\gamma_j^i}{N}$\n",
    "\n",
    "Repeat E and M steps until convergence.\n"
   ]
  },
  {
   "cell_type": "code",
   "execution_count": 70,
   "metadata": {
    "colab": {},
    "colab_type": "code",
    "id": "YdRTYxnefrnG"
   },
   "outputs": [],
   "source": [
    "import math\n",
    "import scipy\n",
    "from scipy.stats import multivariate_normal\n",
    "\n",
    "class GMM(object):\n",
    "    def __init__(self, x, k, iterations):\n",
    "        self.x = x\n",
    "        self.n = x.shape[0] # data points\n",
    "        self.f = x.shape[1] # features\n",
    "        self.k = k  # number of clusters\n",
    "        self.iterations = iterations\n",
    "\n",
    "        self.predictions = np.zeros((self.n, self.k))\n",
    "        \n",
    "        # TODO: initialte parameters\n",
    "        self.pi = None  # of size (k)\n",
    "        self.mu = None  # of size (k, f)\n",
    "        self.sigma = None  # of size (k, f, f)\n",
    "        self.pi = np.bincount(clusters)/(self.n)  # of size (k)\n",
    "        self.mu = C  # of size (k, f)\n",
    "        self.sigma = np.zeros((self.k, self.f, self.f))  # of size (k, f, f)\n",
    "        for i in range(self.k):\n",
    "            matrix = self.x[clusters == i]\n",
    "            self.sigma[i] = np.cov(matrix.T)\n",
    "    def calc_gamma(self):\n",
    "        # TODO: calculate gamma matrix based on parameters and x\n",
    "        # returns a matrix of shape (n, k) where n is the number of data points\n",
    "        gamma = np.zeros((self.n, self.k))\n",
    "        for j in range(self.k):\n",
    "            gamma[:, j] = self.pi[j] * scipy.stats.multivariate_normal.pdf(self.x, self.mu[j, :], self.sigma[j])  \n",
    "\n",
    "        return np.nan_to_num(gamma / np.sum(gamma, axis=1)[:, None])\n",
    "        '''\n",
    "        for i in range(self.n):\n",
    "            row_sum = 0\n",
    "            for j in range(self.k):\n",
    "                coeff = 1/ math.sqrt((2* math.pi)** self.f * np.linalg.det(self.sigma[j]))\n",
    "                a = np.asarray(self.x[i]- self.mu[j]).reshape(2, 1)\n",
    "                temp1 = np.dot(a.T, np.linalg.inv(self.sigma[j]))\n",
    "                #print(self.sigma[j])\n",
    "                temp2 = np.dot(temp1, a)\n",
    "                self.predictions[i, j] = coeff * (math.exp(-1/2 * temp2))\n",
    "                row_sum += self.predictions[i, j]\n",
    "\n",
    "            self.predictions[i, :] /= row_sum\n",
    "        \n",
    "        return self.predictions\n",
    "        '''\n",
    "            \n",
    "        pass\n",
    "        \n",
    "    def update_mu(self, gamma):\n",
    "        for j in range(self.k):\n",
    "            makhraj = 0\n",
    "            soorat = np.zeros((self.f))\n",
    "            for i in range(self.n):\n",
    "                soorat += gamma[i, j] * self.x[i]\n",
    "                #print(gamma[i, j])\n",
    "                makhraj += gamma[i, j]\n",
    "            #print(makhraj)\n",
    "            self.mu[j] = soorat / makhraj\n",
    "        #print(self.mu)\n",
    "        return self.mu\n",
    "                \n",
    "        # TODO: update self.mu based on x and gamma matrix\n",
    "        pass\n",
    "    \n",
    "    def update_sigma(self, gamma):\n",
    "        # TODO: update self.sigma based on x, mu and gamma matrix\n",
    "        mu = self.update_mu(gamma)\n",
    "        for j in range(self.k):\n",
    "            makhraj = 0\n",
    "            soorat = np.zeros((self.f, self.f))\n",
    "            for i in range(self.n):\n",
    "                makhraj += gamma[i, j]\n",
    "                a = np.asarray(self.x[i] - mu[j]).reshape(2, 1)\n",
    "                #print(np.dot(self.x[i] - mu[j], (self.x[i] - mu[j]).T))\n",
    "                soorat += gamma[i, j] * np.dot(a, a.T)\n",
    "                #print(soorat)\n",
    "            self.sigma[j] = soorat / makhraj\n",
    "                \n",
    "        pass\n",
    "        \n",
    "    def update_pi(self, gamma):\n",
    "        # TODO: update self.pi based on gamma matrix\n",
    "        for j in range(self.k):\n",
    "            soorat = 0\n",
    "            for i in range(self.n):\n",
    "                soorat += gamma[i, j]\n",
    "            self.pi[j] = soorat / self.n\n",
    "                \n",
    "        pass\n",
    "        \n",
    "    def fit(self):\n",
    "        for i in range(self.iterations):\n",
    "            gamma = self.calc_gamma()\n",
    "            self.update_mu(gamma)\n",
    "            self.update_sigma(gamma)\n",
    "            self.update_pi(gamma)\n",
    "\n",
    "        \n",
    "        # TODO: predict the mixture for each data\n",
    "        self.predictions = np.argsort(gamma, axis=1)[:,-1]\n",
    "        \n",
    "        \n",
    "        "
   ]
  },
  {
   "cell_type": "code",
   "execution_count": 71,
   "metadata": {
    "colab": {},
    "colab_type": "code",
    "id": "qvcfZa_dfrnL"
   },
   "outputs": [],
   "source": [
    "gmm = GMM(X, 2, 30)\n",
    "gmm.fit()\n",
    "gmm_clusters = gmm.predictions \n",
    "\n",
    "\n"
   ]
  },
  {
   "cell_type": "code",
   "execution_count": 72,
   "metadata": {
    "colab": {},
    "colab_type": "code",
    "id": "iu-8ZKQLfrnQ"
   },
   "outputs": [
    {
     "data": {
      "text/plain": [
       "<matplotlib.collections.PathCollection at 0x1c0b4d02e80>"
      ]
     },
     "execution_count": 72,
     "metadata": {},
     "output_type": "execute_result"
    },
    {
     "data": {
      "image/png": "[encoded data removed]",
      "text/plain": [
       "<matplotlib.figure.Figure at 0x1c0b43e1828>"
      ]
     },
     "metadata": {},
     "output_type": "display_data"
    }
   ],
   "source": [
    "fig, ax = plt.subplots()\n",
    "for i in range(k):\n",
    "        points = np.array([X[j] for j in range(len(X)) if gmm_clusters[j] == i])\n",
    "        ax.scatter(points[:, 0], points[:, 1], s=7, c=colors[i])\n",
    "ax.scatter(C[:, 0], C[:, 1], marker='*', s=200, c='#050505')"
   ]
  },
  {
   "cell_type": "markdown",
   "metadata": {
    "colab_type": "text",
    "id": "i8m21EhVfrnW"
   },
   "source": [
    "## t-SNE (10 points)"
   ]
  },
  {
   "cell_type": "markdown",
   "metadata": {
    "colab_type": "text",
    "id": "Jb8CAX8cfrnX"
   },
   "source": [
    "In this part we are using a generated dataset to test the effect of t-SNE hyperparameters.\n",
    "The data points are on two paralllel lines with a small additive noise."
   ]
  },
  {
   "cell_type": "code",
   "execution_count": 73,
   "metadata": {
    "colab": {},
    "colab_type": "code",
    "id": "6dBH6AmSfrnY"
   },
   "outputs": [
    {
     "name": "stdout",
     "output_type": "stream",
     "text": [
      "(200, 20)\n",
      "(200,)\n"
     ]
    }
   ],
   "source": [
    "# load the dataset\n",
    "\n",
    "X = np.load('X.npy')\n",
    "y = np.load('y.npy')\n",
    "print(X.shape)\n",
    "print(y.shape)"
   ]
  },
  {
   "cell_type": "code",
   "execution_count": 74,
   "metadata": {
    "colab": {},
    "colab_type": "code",
    "id": "oOzBZkaXfrnd",
    "scrolled": true
   },
   "outputs": [
    {
     "data": {
      "text/plain": [
       "<matplotlib.axes._subplots.AxesSubplot at 0x1c0b4462160>"
      ]
     },
     "execution_count": 74,
     "metadata": {},
     "output_type": "execute_result"
    },
    {
     "data": {
      "image/png": "[encoded data removed]",
      "text/plain": [
       "<matplotlib.figure.Figure at 0x1c0b4404a90>"
      ]
     },
     "metadata": {},
     "output_type": "display_data"
    }
   ],
   "source": [
    "# plot data in 2 dimensions using PCA\n",
    "pca = PCA(n_components=2)\n",
    "x_pca = pca.fit_transform(X)\n",
    "sns.scatterplot(x_pca[:,0], x_pca[:,1], hue=y, legend='full', palette=palette)"
   ]
  },
  {
   "cell_type": "markdown",
   "metadata": {
    "colab_type": "text",
    "id": "oNF9FTFYfrni"
   },
   "source": [
    "Find the best hyperparameters such that the output of t-SNE is similar to the output of PCA. Please make sure that your results are stable. Try running t-SNE a few times until you get the same results.\n",
    "\n",
    "You can use [this link](https://distill.pub/2016/misread-tsne/) for help!"
   ]
  },
  {
   "cell_type": "code",
   "execution_count": 80,
   "metadata": {
    "colab": {},
    "colab_type": "code",
    "id": "EoUsJV99frnj"
   },
   "outputs": [
    {
     "data": {
      "text/plain": [
       "<matplotlib.axes._subplots.AxesSubplot at 0x1c0bb139f28>"
      ]
     },
     "execution_count": 80,
     "metadata": {},
     "output_type": "execute_result"
    },
    {
     "data": {
      "image/png": "[encoded data removed]",
      "text/plain": [
       "<matplotlib.figure.Figure at 0x1c0bb1559b0>"
      ]
     },
     "metadata": {},
     "output_type": "display_data"
    }
   ],
   "source": [
    "\n",
    "tsne = TSNE(learning_rate= 100, n_iter=10000, perplexity= 150, min_grad_norm=1e-10, random_state=10)  # TODO: set hyperparameters\n",
    "\n",
    "X_embedded = tsne.fit_transform(X)\n",
    "\n",
    "sns.scatterplot(X_embedded[:,0], X_embedded[:,1], hue=y, legend='full', palette=palette)"
   ]
  },
  {
   "cell_type": "markdown",
   "metadata": {
    "colab_type": "text",
    "id": "_YbMHsbafrno"
   },
   "source": [
    "Are the lines perfectly straight? Can you explain why? "
   ]
  },
  {
   "cell_type": "markdown",
   "metadata": {
    "colab_type": "text",
    "id": "GZ5VxOGcfrnp"
   },
   "source": [
    "--> \n",
    "   Write Your Answer Here \n",
    "<--\n",
    "<div style=\"direction:rtl;line-height:300%;text-align:justify\"><font face=\"XB Zar\" size=4>\n",
    "    همان طور که مشاهده میشود  در میانه خطوط اعوجاج داریم . دلیل این اعوجاج این است که روشtsne برای اینکه local structure را حفظ کند باید به نقاطی که فاصله نزدیکی از هم دارند شباهت زیادی اختصاص بدهد . چون تعداد نقاط با شباهت بالا یا به عبارت دیگر با شباهت یکسان در ابعاد بالا بیشتر از ابعاد پایین است ، به دلیل کمبود فاصله نقاط میانی اعوجاج پیدا کرده اند و روی یک خط صاف نیستند . \n",
    "    دلیل اینکه خطوط در انتها به صورت دم شده اند این است که در روش tsne از توزیع tstudent استفاده میشود و این توزیع به دلیل heavy tailed بودن شباهت میان نقاط با فاصله متوسط از هم را حفظ میکند و در فضای با ابعاد کمتر آنها را خیلی دور از هم قرار نمیدهد .\n",
    "    \n",
    "</font></div>"
   ]
  },
  {
   "cell_type": "code",
   "execution_count": null,
   "metadata": {},
   "outputs": [],
   "source": []
  }
 ],
 "metadata": {
  "colab": {
   "collapsed_sections": [],
   "name": "HW4_Practical.ipynb",
   "provenance": [],
   "toc_visible": true
  },
  "kernelspec": {
   "display_name": "Python 3",
   "language": "python",
   "name": "python3"
  },
  "language_info": {
   "codemirror_mode": {
    "name": "ipython",
    "version": 3
   },
   "file_extension": ".py",
   "mimetype": "text/x-python",
   "name": "python",
   "nbconvert_exporter": "python",
   "pygments_lexer": "ipython3",
   "version": "3.6.4"
  }
 },
 "nbformat": 4,
 "nbformat_minor": 1
}
