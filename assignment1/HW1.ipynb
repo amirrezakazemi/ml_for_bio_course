{
 "cells": [
  {
   "cell_type": "markdown",
   "metadata": {},
   "source": [
    "KNN CLASSIFIER"
   ]
  },
  {
   "cell_type": "code",
   "execution_count": 4,
   "metadata": {},
   "outputs": [
    {
     "name": "stdout",
     "output_type": "stream",
     "text": [
      "classifier 1NN 0.5871598639455783\n",
      "classifier 2NN 0.6034013605442177\n",
      "classifier 3NN 0.6238945578231292\n",
      "classifier 4NN 0.6318027210884354\n",
      "classifier 5NN 0.64421768707483\n",
      "classifier 8NN 0.6446428571428571\n",
      "classifier 9NN 0.673469387755102\n",
      "classifier 11NN 0.6858843537414966\n",
      "classifier 12NN 0.6901360544217686\n",
      "test accuracy 0.6885245901639344\n"
     ]
    }
   ],
   "source": [
    "from utils import read_data, shuffle_data, split_data, k_foldCrossVal, accuracy, t_test\n",
    "from kNN import knnClassifier\n",
    "import numpy as np\n",
    "X, Y = read_data(\"heart.csv\",\"target\")\n",
    "#[0, 1, 2, 3]seeds were tested \n",
    "np.random.seed(1)\n",
    "shuffled_X, shuffled_Y = shuffle_data(X, Y)\n",
    "trainData, testData = split_data(shuffled_X, shuffled_Y, 0.8)\n",
    "testX, testY = testData\n",
    "best_knn_classifier = None\n",
    "best_val_accuracy = 0\n",
    "#tuning hyperparams\n",
    "for i in range(1, 15):\n",
    "    knn_Classifier = knnClassifier(i)\n",
    "    #treeClassifier = decisionTreeClassifier(2, 0.8)\n",
    "    val_acc = k_foldCrossVal(5, knn_Classifier, trainData)\n",
    "    if best_val_accuracy <= val_acc:\n",
    "        print(\"classifier \"+ str(i) + \"NN\", val_acc)\n",
    "        best_knn_classifier = knn_Classifier\n",
    "        best_val_accuracy = val_acc\n",
    "labelknn = best_knn_classifier.predict(testX)\n",
    "print(\"test accuracy\" , accuracy(labelknn, testY))\n"
   ]
  },
  {
   "cell_type": "markdown",
   "metadata": {},
   "source": [
    "DECISION TREE CLASSIFIER"
   ]
  },
  {
   "cell_type": "code",
   "execution_count": 5,
   "metadata": {},
   "outputs": [
    {
     "name": "stdout",
     "output_type": "stream",
     "text": [
      "classifier with max_depth 2 and threshold 0.6 0.5369897959183674\n",
      "classifier with max_depth 5 and threshold 0.6 0.5410714285714285\n",
      "classifier with max_depth 6 and threshold 0.6 0.5453231292517007\n",
      "classifier with max_depth 7 and threshold 0.6 0.6610544217687074\n",
      "classifier with max_depth 8 and threshold 0.6 0.6860544217687075\n",
      "classifier with max_depth 10 and threshold 0.6 0.6985544217687074\n",
      "classifier with max_depth 11 and threshold 0.6 0.7068877551020408\n",
      "classifier with max_depth 10 and threshold 0.7 0.7355442176870748\n",
      "classifier with max_depth 11 and threshold 0.7 0.7397108843537415\n",
      "classifier with max_depth 11 and threshold 0.8 0.7477891156462585\n",
      "classifier with max_depth 11 and threshold 0.9 0.7518707482993197\n",
      "test accuracy 0.8688524590163934\n"
     ]
    }
   ],
   "source": [
    "from DecisionTree import decisionTreeClassifier\n",
    "best_destree_classifier = None\n",
    "best_val_accuracy = 0\n",
    "#tuning hyperparams\n",
    "for i in (0.6, 0.7, 0.8, 0.9):\n",
    "    for j in range(2, 14):\n",
    "        tree_Classifier = decisionTreeClassifier(j, i)\n",
    "        val_acc = k_foldCrossVal(5, tree_Classifier, trainData)\n",
    "        if best_val_accuracy < val_acc:\n",
    "            print(\"classifier with max_depth \"+ str(j) + \" and threshold \" + str(i), val_acc)\n",
    "            best_destree_classifier = tree_Classifier\n",
    "            best_val_accuracy = val_acc\n",
    "labeltree = best_destree_classifier.predict(testX)\n",
    "print(\"test accuracy\" , accuracy(labeltree, testY))\n",
    "            "
   ]
  },
  {
   "cell_type": "markdown",
   "metadata": {},
   "source": [
    "T_TEST"
   ]
  },
  {
   "cell_type": "code",
   "execution_count": 6,
   "metadata": {},
   "outputs": [
    {
     "name": "stdout",
     "output_type": "stream",
     "text": [
      "t-value calculated 2.5017235438103813\n",
      "t-value expected to reject 1.6706488646505926\n",
      "there is improvement in using decision tree rather than knn\n"
     ]
    }
   ],
   "source": [
    "t_test(labeltree, labelknn, testY)\n"
   ]
  },
  {
   "cell_type": "code",
   "execution_count": null,
   "metadata": {},
   "outputs": [],
   "source": []
  }
 ],
 "metadata": {
  "kernelspec": {
   "display_name": "Python 3",
   "language": "python",
   "name": "python3"
  },
  "language_info": {
   "codemirror_mode": {
    "name": "ipython",
    "version": 3
   },
   "file_extension": ".py",
   "mimetype": "text/x-python",
   "name": "python",
   "nbconvert_exporter": "python",
   "pygments_lexer": "ipython3",
   "version": "3.6.4"
  }
 },
 "nbformat": 4,
 "nbformat_minor": 2
}
