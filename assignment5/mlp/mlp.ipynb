{
 "cells": [
  {
   "cell_type": "code",
   "execution_count": 1,
   "metadata": {},
   "outputs": [],
   "source": [
    "from sklearn.datasets import load_iris\n",
    "import numpy as np\n",
    "from tqdm.notebook import tqdm\n",
    "from sklearn.metrics import accuracy_score\n",
    "import matplotlib.pyplot as plt\n",
    "\n",
    "#import torch\n",
    "import tensorflow as tf\n",
    "# for auto-reloading external modules\n",
    "# see http://stackoverflow.com/questions/1907993/autoreload-of-modules-in-ipython\n",
    "%load_ext autoreload\n",
    "%autoreload 2"
   ]
  },
  {
   "cell_type": "markdown",
   "metadata": {},
   "source": [
    "## loading Dataset"
   ]
  },
  {
   "cell_type": "code",
   "execution_count": 3,
   "metadata": {},
   "outputs": [],
   "source": [
    "iris = load_iris()\n",
    "X = iris.data\n",
    "y = iris.target"
   ]
  },
  {
   "cell_type": "code",
   "execution_count": 102,
   "metadata": {},
   "outputs": [],
   "source": [
    "#X.shape, y.shape\n",
    "from MLP import MLP"
   ]
  },
  {
   "cell_type": "markdown",
   "metadata": {},
   "source": [
    "## MLP\n",
    "\n",
    "#### Complete the MLP.py, and then import it"
   ]
  },
  {
   "cell_type": "code",
   "execution_count": 128,
   "metadata": {},
   "outputs": [
    {
     "data": {
      "application/vnd.jupyter.widget-view+json": {
       "model_id": "18162fd01359409990ab03f2d3db42a8",
       "version_major": 2,
       "version_minor": 0
      },
      "text/plain": [
       "HBox(children=(IntProgress(value=0, max=200), HTML(value='')))"
      ]
     },
     "metadata": {},
     "output_type": "display_data"
    },
    {
     "name": "stdout",
     "output_type": "stream",
     "text": [
      "1 loss: 297.1986109812865 acc: 0.3333333333333333\n",
      "2 loss: 269.06239390411065 acc: 0.31333333333333335\n",
      "3 loss: 241.23544513403223 acc: 0.06\n",
      "4 loss: 228.83379007194594 acc: 0.34\n",
      "5 loss: 223.68251292544448 acc: 0.3333333333333333\n",
      "6 loss: 219.99612269880907 acc: 0.3333333333333333\n",
      "7 loss: 216.76352803651932 acc: 0.3333333333333333\n",
      "8 loss: 213.7626081814123 acc: 0.3333333333333333\n",
      "9 loss: 210.92577405615333 acc: 0.3333333333333333\n",
      "10 loss: 208.22681914381224 acc: 0.3333333333333333\n",
      "11 loss: 205.65318414882927 acc: 0.3333333333333333\n",
      "12 loss: 203.19751862985476 acc: 0.3333333333333333\n",
      "13 loss: 200.85470462391632 acc: 0.3333333333333333\n",
      "14 loss: 198.6206853128764 acc: 0.3333333333333333\n",
      "15 loss: 196.49195968028027 acc: 0.3333333333333333\n",
      "16 loss: 194.4653438362087 acc: 0.3333333333333333\n",
      "17 loss: 192.53784639985588 acc: 0.3333333333333333\n",
      "18 loss: 190.70659585236712 acc: 0.3333333333333333\n",
      "19 loss: 188.96879346171755 acc: 0.3333333333333333\n",
      "20 loss: 187.3216802100531 acc: 0.3333333333333333\n",
      "21 loss: 185.76251253179586 acc: 0.3333333333333333\n",
      "22 loss: 184.2885444569909 acc: 0.3333333333333333\n",
      "23 loss: 182.89701496145716 acc: 0.3333333333333333\n",
      "24 loss: 181.58513982549135 acc: 0.3333333333333333\n",
      "25 loss: 180.35010748764864 acc: 0.3333333333333333\n",
      "26 loss: 179.18907842971163 acc: 0.3333333333333333\n",
      "27 loss: 178.09918762735703 acc: 0.3333333333333333\n",
      "28 loss: 177.07754958719175 acc: 0.3333333333333333\n",
      "29 loss: 176.12126548205742 acc: 0.3333333333333333\n",
      "30 loss: 175.22743189954497 acc: 0.3333333333333333\n",
      "31 loss: 174.39315073504594 acc: 0.3333333333333333\n",
      "32 loss: 173.61553978937098 acc: 0.3333333333333333\n",
      "33 loss: 172.8917436697734 acc: 0.3333333333333333\n",
      "34 loss: 172.21894463945284 acc: 0.3333333333333333\n",
      "35 loss: 171.59437311153678 acc: 0.3333333333333333\n",
      "36 loss: 171.01531753658384 acc: 0.3333333333333333\n",
      "37 loss: 170.47913348555363 acc: 0.3333333333333333\n",
      "38 loss: 169.98325178105972 acc: 0.34\n",
      "39 loss: 169.52518557707947 acc: 0.34\n",
      "40 loss: 169.1025363300598 acc: 0.34\n",
      "41 loss: 168.71299864183842 acc: 0.34\n",
      "42 loss: 168.3543639866275 acc: 0.34\n",
      "43 loss: 168.02452336043146 acc: 0.34\n",
      "44 loss: 167.72146891184485 acc: 0.34\n",
      "45 loss: 167.4432946285657 acc: 0.34\n",
      "46 loss: 167.1881961646274 acc: 0.34\n",
      "47 loss: 166.95446989987 acc: 0.34\n",
      "48 loss: 166.740511326119 acc: 0.34\n",
      "49 loss: 166.54481285453488 acc: 0.34\n",
      "50 loss: 166.36596113620143 acc: 0.34\n",
      "51 loss: 166.20263398379177 acc: 0.34\n",
      "52 loss: 166.05359697656357 acc: 0.34\n",
      "53 loss: 165.91769982442185 acc: 0.34\n",
      "54 loss: 165.7938725597154 acc: 0.34\n",
      "55 loss: 165.68112161810248 acc: 0.34\n",
      "56 loss: 165.57852586247947 acc: 0.34\n",
      "57 loss: 165.48523259680576 acc: 0.34\n",
      "58 loss: 165.40045360981964 acc: 0.34\n",
      "59 loss: 165.323461282233 acc: 0.34\n",
      "60 loss: 165.25358478507457 acc: 0.34\n",
      "61 loss: 165.1902063914727 acc: 0.34\n",
      "62 loss: 165.1327579193353 acc: 0.34\n",
      "63 loss: 165.08071731809818 acc: 0.34\n",
      "64 loss: 165.03360540895846 acc: 0.34\n",
      "65 loss: 164.9909827847551 acc: 0.34\n",
      "66 loss: 164.9524468728776 acc: 0.34\n",
      "67 loss: 164.91762916223325 acc: 0.34\n",
      "68 loss: 164.88619259334672 acc: 0.34\n",
      "69 loss: 164.85782910906136 acc: 0.34\n",
      "70 loss: 164.83225736202317 acc: 0.34\n",
      "71 loss: 164.80922057411033 acc: 0.3466666666666667\n",
      "72 loss: 164.78848454220002 acc: 0.35333333333333333\n",
      "73 loss: 164.76983578409354 acc: 0.35333333333333333\n",
      "74 loss: 164.75307981803127 acc: 0.35333333333333333\n",
      "75 loss: 164.73803956898448 acc: 0.36666666666666664\n",
      "76 loss: 164.72455389479606 acc: 0.37333333333333335\n",
      "77 loss: 164.712476225224 acc: 0.37333333333333335\n",
      "78 loss: 164.70167330701202 acc: 0.37333333333333335\n",
      "79 loss: 164.69202404824614 acc: 0.38\n",
      "80 loss: 164.68341845544415 acc: 0.38\n",
      "81 loss: 164.6757566570517 acc: 0.38\n",
      "82 loss: 164.66894800727698 acc: 0.38\n",
      "83 loss: 164.66291026447357 acc: 0.38666666666666666\n",
      "84 loss: 164.65756883857102 acc: 0.3933333333333333\n",
      "85 loss: 164.6528561023522 acc: 0.3933333333333333\n",
      "86 loss: 164.64871076167495 acc: 0.3933333333333333\n",
      "87 loss: 164.64507728003562 acc: 0.3933333333333333\n",
      "88 loss: 164.64190535316212 acc: 0.4\n",
      "89 loss: 164.6391494296115 acc: 0.41333333333333333\n",
      "90 loss: 164.63676827362144 acc: 0.4266666666666667\n",
      "91 loss: 164.63472456672866 acc: 0.4266666666666667\n",
      "92 loss: 164.63298454492065 acc: 0.43333333333333335\n",
      "93 loss: 164.6315176683261 acc: 0.43333333333333335\n",
      "94 loss: 164.63029632067543 acc: 0.44\n",
      "95 loss: 164.6292955359772 acc: 0.44\n",
      "96 loss: 164.62849275005573 acc: 0.44\n",
      "97 loss: 164.6278675747831 acc: 0.44\n",
      "98 loss: 164.62740159301387 acc: 0.44\n",
      "99 loss: 164.6270781723935 acc: 0.44\n",
      "100 loss: 164.6268822963637 acc: 0.44\n",
      "101 loss: 164.62680041082672 acc: 0.44\n",
      "102 loss: 164.6268202850631 acc: 0.44\n",
      "103 loss: 164.6269308856147 acc: 0.44666666666666666\n",
      "104 loss: 164.627122261958 acc: 0.4533333333333333\n",
      "105 loss: 164.62738544289272 acc: 0.4533333333333333\n",
      "106 loss: 164.6277123426667 acc: 0.4533333333333333\n",
      "107 loss: 164.62809567594195 acc: 0.4533333333333333\n",
      "108 loss: 164.6285288807881 acc: 0.4533333333333333\n",
      "109 loss: 164.62900604896066 acc: 0.4533333333333333\n",
      "110 loss: 164.62952186278835 acc: 0.4533333333333333\n",
      "111 loss: 164.63007153805512 acc: 0.4533333333333333\n",
      "112 loss: 164.63065077231698 acc: 0.46\n",
      "113 loss: 164.63125569814582 acc: 0.46\n",
      "114 loss: 164.63188284083793 acc: 0.46\n",
      "115 loss: 164.63252908016784 acc: 0.4666666666666667\n",
      "116 loss: 164.63319161580534 acc: 0.47333333333333333\n",
      "117 loss: 164.63386793605173 acc: 0.47333333333333333\n",
      "118 loss: 164.63455578957957 acc: 0.48\n",
      "119 loss: 164.63525315989176 acc: 0.48\n",
      "120 loss: 164.63595824224225 acc: 0.48\n",
      "121 loss: 164.63666942278334 acc: 0.4866666666666667\n",
      "122 loss: 164.6373852597286 acc: 0.4866666666666667\n",
      "123 loss: 164.63810446633744 acc: 0.4866666666666667\n",
      "124 loss: 164.6388258955488 acc: 0.49333333333333335\n",
      "125 loss: 164.6395485261051 acc: 0.49333333333333335\n",
      "126 loss: 164.64027145002427 acc: 0.49333333333333335\n",
      "127 loss: 164.64099386128973 acc: 0.49333333333333335\n",
      "128 loss: 164.64171504564203 acc: 0.52\n",
      "129 loss: 164.6424343713656 acc: 0.52\n",
      "130 loss: 164.64315128097542 acc: 0.52\n",
      "131 loss: 164.64386528371557 acc: 0.52\n",
      "132 loss: 164.64457594879292 acc: 0.52\n",
      "133 loss: 164.64528289927352 acc: 0.52\n",
      "134 loss: 164.64598580657835 acc: 0.52\n",
      "135 loss: 164.64668438551985 acc: 0.5266666666666666\n",
      "136 loss: 164.6473783898275 acc: 0.5266666666666666\n",
      "137 loss: 164.64806760811427 acc: 0.5266666666666666\n",
      "138 loss: 164.64875186024122 acc: 0.5266666666666666\n",
      "139 loss: 164.6494309940423 acc: 0.5266666666666666\n",
      "140 loss: 164.65010488237297 acc: 0.5266666666666666\n",
      "141 loss: 164.65077342045242 acc: 0.5266666666666666\n",
      "142 loss: 164.65143652346967 acc: 0.54\n",
      "143 loss: 164.6520941244286 acc: 0.5466666666666666\n",
      "144 loss: 164.65274617220814 acc: 0.5466666666666666\n",
      "145 loss: 164.65339262981632 acc: 0.5466666666666666\n",
      "146 loss: 164.6540334728202 acc: 0.5466666666666666\n",
      "147 loss: 164.65466868793288 acc: 0.5466666666666666\n",
      "148 loss: 164.65529827174385 acc: 0.5466666666666666\n",
      "149 loss: 164.65592222957753 acc: 0.5466666666666666\n",
      "150 loss: 164.65654057446747 acc: 0.5466666666666666\n",
      "151 loss: 164.65715332623506 acc: 0.5466666666666666\n",
      "152 loss: 164.65776051066285 acc: 0.5466666666666666\n",
      "153 loss: 164.6583621587521 acc: 0.5466666666666666\n",
      "154 loss: 164.65895830605723 acc: 0.5466666666666666\n",
      "155 loss: 164.6595489920888 acc: 0.5466666666666666\n",
      "156 loss: 164.66013425977917 acc: 0.5466666666666666\n",
      "157 loss: 164.66071415500326 acc: 0.5466666666666666\n",
      "158 loss: 164.66128872615047 acc: 0.5466666666666666\n",
      "159 loss: 164.66185802374116 acc: 0.5466666666666666\n",
      "160 loss: 164.66242210008474 acc: 0.5466666666666666\n",
      "161 loss: 164.6629810089737 acc: 0.5466666666666666\n",
      "162 loss: 164.66353480541142 acc: 0.5466666666666666\n",
      "163 loss: 164.664083545369 acc: 0.5466666666666666\n",
      "164 loss: 164.66462728556957 acc: 0.5466666666666666\n",
      "165 loss: 164.66516608329607 acc: 0.5466666666666666\n",
      "166 loss: 164.66569999622067 acc: 0.5466666666666666\n",
      "167 loss: 164.66622908225423 acc: 0.5466666666666666\n",
      "168 loss: 164.66675339941239 acc: 0.5533333333333333\n",
      "169 loss: 164.66727300569778 acc: 0.56\n",
      "170 loss: 164.6677879589962 acc: 0.56\n",
      "171 loss: 164.6682983169856 acc: 0.56\n",
      "172 loss: 164.66880413705587 acc: 0.56\n",
      "173 loss: 164.66930547623932 acc: 0.56\n",
      "174 loss: 164.66980239114986 acc: 0.56\n",
      "175 loss: 164.67029493793058 acc: 0.56\n",
      "176 loss: 164.67078317220853 acc: 0.56\n",
      "177 loss: 164.67126714905578 acc: 0.56\n",
      "178 loss: 164.67174692295663 acc: 0.56\n",
      "179 loss: 164.67222254777982 acc: 0.56\n",
      "180 loss: 164.67269407675548 acc: 0.56\n",
      "181 loss: 164.67316156245593 acc: 0.56\n",
      "182 loss: 164.67362505678062 acc: 0.56\n",
      "183 loss: 164.6740846109439 acc: 0.56\n",
      "184 loss: 164.67454027546592 acc: 0.56\n",
      "185 loss: 164.67499210016598 acc: 0.56\n",
      "186 loss: 164.67544013415824 acc: 0.56\n",
      "187 loss: 164.67588442584935 acc: 0.56\n",
      "188 loss: 164.67632502293804 acc: 0.56\n",
      "189 loss: 164.676761972416 acc: 0.56\n",
      "190 loss: 164.6771953205702 acc: 0.56\n",
      "191 loss: 164.6776251129867 acc: 0.56\n",
      "192 loss: 164.67805139455487 acc: 0.56\n",
      "193 loss: 164.67847420947334 acc: 0.56\n",
      "194 loss: 164.67889360125585 acc: 0.56\n",
      "195 loss: 164.67930961273848 acc: 0.56\n",
      "196 loss: 164.67972228608716 acc: 0.56\n",
      "197 loss: 164.6801316628055 acc: 0.56\n",
      "198 loss: 164.68053778374338 acc: 0.56\n",
      "199 loss: 164.68094068910568 acc: 0.56\n",
      "200 loss: 164.68134041846116 acc: 0.56\n",
      "\n"
     ]
    }
   ],
   "source": [
    "mlp = MLP()\n",
    "mlp.train(X, y, 200)\n"
   ]
  },
  {
   "cell_type": "markdown",
   "metadata": {},
   "source": [
    "## plotting performance"
   ]
  },
  {
   "cell_type": "code",
   "execution_count": 129,
   "metadata": {},
   "outputs": [
    {
     "data": {
      "image/png": "[encoded data removed]",
      "text/plain": [
       "<Figure size 432x288 with 2 Axes>"
      ]
     },
     "metadata": {
      "needs_background": "light"
     },
     "output_type": "display_data"
    }
   ],
   "source": [
    "plt.figure()\n",
    "plt.subplot(2,1,1)\n",
    "plt.title('loss')\n",
    "plt.plot(mlp.hist['loss'])\n",
    "\n",
    "plt.subplot(2,1,2)\n",
    "plt.title('acc')\n",
    "plt.plot(mlp.hist['acc'])\n",
    "plt.show()"
   ]
  },
  {
   "cell_type": "code",
   "execution_count": null,
   "metadata": {},
   "outputs": [],
   "source": []
  }
 ],
 "metadata": {
  "kernelspec": {
   "display_name": "Python 3",
   "language": "python",
   "name": "python3"
  },
  "language_info": {
   "codemirror_mode": {
    "name": "ipython",
    "version": 3
   },
   "file_extension": ".py",
   "mimetype": "text/x-python",
   "name": "python",
   "nbconvert_exporter": "python",
   "pygments_lexer": "ipython3",
   "version": "3.6.9"
  }
 },
 "nbformat": 4,
 "nbformat_minor": 2
}
