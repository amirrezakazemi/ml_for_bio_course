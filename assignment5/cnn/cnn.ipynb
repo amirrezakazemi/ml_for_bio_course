{
  "nbformat": 4,
  "nbformat_minor": 0,
  "metadata": {
    "kernelspec": {
      "display_name": "Python 3",
      "language": "python",
      "name": "python3"
    },
    "language_info": {
      "codemirror_mode": {
        "name": "ipython",
        "version": 3
      },
      "file_extension": ".py",
      "mimetype": "text/x-python",
      "name": "python",
      "nbconvert_exporter": "python",
      "pygments_lexer": "ipython3",
      "version": "3.6.9"
    },
    "colab": {
      "name": "Untitled.ipynb",
      "provenance": [],
      "collapsed_sections": []
    }
  },
  "cells": [
    {
      "cell_type": "code",
      "metadata": {
        "id": "qeDB3Sqh4tLt",
        "colab_type": "code",
        "colab": {}
      },
      "source": [
        "from google.colab import drive\n",
        "from google.colab import files\n",
        "drive.mount('/content/drive')"
      ],
      "execution_count": null,
      "outputs": []
    },
    {
      "cell_type": "code",
      "metadata": {
        "id": "A7xMFetblw_3",
        "colab_type": "code",
        "colab": {}
      },
      "source": [
        "#!cp -r \"drive/My Drive/tumor_dataset\" \n",
        "!cp -r \"drive/My Drive/preprocess.py\" \"preprocess.py\"\n",
        "!cp -r \"drive/My Drive/resnet.py\" \"resnet.py\""
      ],
      "execution_count": 22,
      "outputs": []
    },
    {
      "cell_type": "code",
      "metadata": {
        "id": "JqIYdGijle7L",
        "colab_type": "code",
        "colab": {}
      },
      "source": [
        "import imutils as imutils\n",
        "import numpy as np\n",
        "from tqdm import tqdm\n",
        "import cv2\n",
        "import os\n",
        "from sklearn.model_selection import train_test_split\n",
        "from keras.preprocessing.image import ImageDataGenerator\n",
        "from preprocess import *\n",
        "from keras.applications.vgg16 import VGG16, preprocess_input\n",
        "from resnet import *\n",
        "import tensorflow as tf\n",
        "from keras.optimizers import Adam\n",
        "from torch.utils.data import Dataset, DataLoader, random_split\n",
        "from PIL import Image\n",
        "import os\n",
        "\n",
        "# for auto-reloading external modules\n",
        "# see http://stackoverflow.com/questions/1907993/autoreload-of-modules-in-ipython\n",
        "%load_ext autoreload\n",
        "%autoreload 2"
      ],
      "execution_count": null,
      "outputs": []
    },
    {
      "cell_type": "code",
      "metadata": {
        "id": "2xfekcPkrdif",
        "colab_type": "code",
        "colab": {}
      },
      "source": [
        "!mkdir train\n",
        "!mkdir val\n",
        "!mkdir test\n",
        "!mkdir train/yes\n",
        "!mkdir train/no\n",
        "!mkdir val/yes\n",
        "!mkdir val/no\n",
        "!mkdir test/yes\n",
        "!mkdir test/no\n",
        "\n"
      ],
      "execution_count": null,
      "outputs": []
    },
    {
      "cell_type": "code",
      "metadata": {
        "id": "z9QxFF_R26kc",
        "colab_type": "code",
        "colab": {}
      },
      "source": [
        ""
      ],
      "execution_count": 71,
      "outputs": []
    },
    {
      "cell_type": "code",
      "metadata": {
        "id": "xh5tf1Gn4tL8",
        "colab_type": "code",
        "colab": {}
      },
      "source": [
        "IMG_SIZE = (224,224)\n",
        "X, y, labels = load_data(\"tumor_dataset/\", IMG_SIZE)\n",
        "cropped_X = crop_imgs(X)\n",
        "preprocessed_X = preprocess_imgs(cropped_X, IMG_SIZE)\n",
        "X_train_val, X_test, y_train_val, y_test = train_test_split(preprocessed_X, y, test_size=0.2, random_state=42)\n",
        "X_train, X_val, y_train, y_val = train_test_split(X_train_val, y_train_val, test_size=0.1, random_state=42)\n",
        "save_new_images(X_train, y_train, folder_name='train/')\n",
        "save_new_images(X_val, y_val, folder_name='val/')\n",
        "save_new_images(X_test, y_test, folder_name='test/')\n",
        "#with open('/content/gdrive/My Drive/TRAIN_CROP/', 'w') as f:\n",
        "#  f.write(X_train, y_train)\n",
        "demo_datagen = ImageDataGenerator(\n",
        "    rotation_range=15,\n",
        "    width_shift_range=0.05,\n",
        "    height_shift_range=0.05,\n",
        "    rescale=1./255,\n",
        "    shear_range=0.05,\n",
        "    brightness_range=[0.1, 1.5],\n",
        "    horizontal_flip=True,\n",
        "    vertical_flip=True\n",
        ")\n"
      ],
      "execution_count": null,
      "outputs": []
    },
    {
      "cell_type": "code",
      "metadata": {
        "id": "ZG8UigKr4tML",
        "colab_type": "code",
        "colab": {}
      },
      "source": [
        "TRAIN_DIR = 'train/'\n",
        "VAL_DIR = 'val/'\n",
        "\n",
        "\n",
        "\n",
        "datagen1 = ImageDataGenerator(\n",
        "    rotation_range=30,\n",
        "    width_shift_range=0.5,\n",
        "    height_shift_range=0.5,\n",
        "    shear_range=0.1,\n",
        "    brightness_range=[-10, 10],\n",
        "    horizontal_flip=True,\n",
        "    vertical_flip=True,\n",
        "    preprocessing_function=preprocess_input\n",
        "\n",
        ")\n",
        "data = datagen1.flow(X_train, y_train, batch_size=32)\n",
        "val_data = datagen1.flow(X_val, y_val, batch_size=32)\n",
        "             \n",
        "input_shape = X_train.shape[1:]\n",
        "model = my_resnet(input_shape)\n",
        "\n",
        "model.compile(loss='binary_crossentropy',\n",
        "              optimizer=Adam(learning_rate=1e-1), metrics=['accuracy'])\n",
        "\n",
        "for x, z in data:\n",
        "    model.train_on_batch(x, z)\n",
        "for x , z in val_data:\n",
        "    model.fit(x,z)"
      ],
      "execution_count": null,
      "outputs": []
    },
    {
      "cell_type": "code",
      "metadata": {
        "id": "dQjAORrsawjN",
        "colab_type": "code",
        "colab": {}
      },
      "source": [
        ""
      ],
      "execution_count": null,
      "outputs": []
    },
    {
      "cell_type": "markdown",
      "metadata": {
        "id": "kgbHQim_a0WK",
        "colab_type": "text"
      },
      "source": [
        "a . adding a layer of bath norm helps model to overcome overfitting , we used this layer in out defined model\n",
        "\n",
        "b . adding a layer of drop out after relu activation helps us to overcome overfitting, there is an option for resnet funtion to have dropout layer but we didnt use it.\n",
        "\n"
      ]
    },
    {
      "cell_type": "code",
      "metadata": {
        "id": "uZU9KmklbaCD",
        "colab_type": "code",
        "colab": {}
      },
      "source": [
        ""
      ],
      "execution_count": null,
      "outputs": []
    }
  ]
}